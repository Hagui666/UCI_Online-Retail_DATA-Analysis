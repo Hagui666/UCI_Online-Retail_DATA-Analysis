{
 "cells": [
  {
   "cell_type": "code",
   "execution_count": 275,
   "metadata": {},
   "outputs": [],
   "source": [
    "import pandas as pd\n",
    "import numpy as np\n",
    "import matplotlib.pyplot as plt\n",
    "import seaborn as sns"
   ]
  },
  {
   "cell_type": "code",
   "execution_count": 276,
   "metadata": {},
   "outputs": [],
   "source": [
    "df = pd.read_csv('Online Retail2.csv')"
   ]
  },
  {
   "cell_type": "markdown",
   "metadata": {},
   "source": [
    "#### 數據集資訊\n",
    "- InvoiceNo: Invoice number. Nominal. A 6-digit integral number uniquely assigned to each transaction. If this code starts with the letter 'c', it indicates a cancellation.\n",
    "- StockCode: Product (item) code. Nominal. A 5-digit integral number uniquely assigned to each distinct product.\n",
    "- Description: Product (item) name. Nominal.\n",
    "- Quantity: The quantities of each product (item) per transaction. Numeric.\n",
    "- InvoiceDate: Invoice date and time. Numeric. The day and time when a transaction was generated.\n",
    "- UnitPrice: Unit price. Numeric. Product price per unit in sterling (Â£).\n",
    "- CustomerID: Customer number. Nominal. A 5-digit integral number uniquely assigned to each customer.\n",
    "- Country: Country name. Nominal. The name of the country where a customer resides.\n",
    "\n",
    "InvoiceNo中，C開頭的訂單編號代表退貨訂單，沒有C開頭是成交訂單，因此會有兩大類訂單要分開分析\n",
    "\n",
    "StockCode，用以分別不同商品的唯一代碼\n",
    "\n",
    "Quantity，每筆交易的每個產品的數量"
   ]
  },
  {
   "cell_type": "code",
   "execution_count": 277,
   "metadata": {},
   "outputs": [
    {
     "data": {
      "text/html": [
       "<div>\n",
       "<style scoped>\n",
       "    .dataframe tbody tr th:only-of-type {\n",
       "        vertical-align: middle;\n",
       "    }\n",
       "\n",
       "    .dataframe tbody tr th {\n",
       "        vertical-align: top;\n",
       "    }\n",
       "\n",
       "    .dataframe thead th {\n",
       "        text-align: right;\n",
       "    }\n",
       "</style>\n",
       "<table border=\"1\" class=\"dataframe\">\n",
       "  <thead>\n",
       "    <tr style=\"text-align: right;\">\n",
       "      <th></th>\n",
       "      <th>InvoiceNo</th>\n",
       "      <th>StockCode</th>\n",
       "      <th>Description</th>\n",
       "      <th>Quantity</th>\n",
       "      <th>InvoiceDate</th>\n",
       "      <th>UnitPrice</th>\n",
       "      <th>CustomerID</th>\n",
       "      <th>Country</th>\n",
       "    </tr>\n",
       "  </thead>\n",
       "  <tbody>\n",
       "    <tr>\n",
       "      <th>0</th>\n",
       "      <td>536365</td>\n",
       "      <td>85123A</td>\n",
       "      <td>WHITE HANGING HEART T-LIGHT HOLDER</td>\n",
       "      <td>6</td>\n",
       "      <td>2010/12/1 8:26</td>\n",
       "      <td>2.55</td>\n",
       "      <td>17850.0</td>\n",
       "      <td>United Kingdom</td>\n",
       "    </tr>\n",
       "    <tr>\n",
       "      <th>1</th>\n",
       "      <td>536365</td>\n",
       "      <td>71053</td>\n",
       "      <td>WHITE METAL LANTERN</td>\n",
       "      <td>6</td>\n",
       "      <td>2010/12/1 8:26</td>\n",
       "      <td>3.39</td>\n",
       "      <td>17850.0</td>\n",
       "      <td>United Kingdom</td>\n",
       "    </tr>\n",
       "    <tr>\n",
       "      <th>2</th>\n",
       "      <td>536365</td>\n",
       "      <td>84406B</td>\n",
       "      <td>CREAM CUPID HEARTS COAT HANGER</td>\n",
       "      <td>8</td>\n",
       "      <td>2010/12/1 8:26</td>\n",
       "      <td>2.75</td>\n",
       "      <td>17850.0</td>\n",
       "      <td>United Kingdom</td>\n",
       "    </tr>\n",
       "    <tr>\n",
       "      <th>3</th>\n",
       "      <td>536365</td>\n",
       "      <td>84029G</td>\n",
       "      <td>KNITTED UNION FLAG HOT WATER BOTTLE</td>\n",
       "      <td>6</td>\n",
       "      <td>2010/12/1 8:26</td>\n",
       "      <td>3.39</td>\n",
       "      <td>17850.0</td>\n",
       "      <td>United Kingdom</td>\n",
       "    </tr>\n",
       "    <tr>\n",
       "      <th>4</th>\n",
       "      <td>536365</td>\n",
       "      <td>84029E</td>\n",
       "      <td>RED WOOLLY HOTTIE WHITE HEART.</td>\n",
       "      <td>6</td>\n",
       "      <td>2010/12/1 8:26</td>\n",
       "      <td>3.39</td>\n",
       "      <td>17850.0</td>\n",
       "      <td>United Kingdom</td>\n",
       "    </tr>\n",
       "    <tr>\n",
       "      <th>...</th>\n",
       "      <td>...</td>\n",
       "      <td>...</td>\n",
       "      <td>...</td>\n",
       "      <td>...</td>\n",
       "      <td>...</td>\n",
       "      <td>...</td>\n",
       "      <td>...</td>\n",
       "      <td>...</td>\n",
       "    </tr>\n",
       "    <tr>\n",
       "      <th>541904</th>\n",
       "      <td>581587</td>\n",
       "      <td>22613</td>\n",
       "      <td>PACK OF 20 SPACEBOY NAPKINS</td>\n",
       "      <td>12</td>\n",
       "      <td>2011/12/9 12:50</td>\n",
       "      <td>0.85</td>\n",
       "      <td>12680.0</td>\n",
       "      <td>France</td>\n",
       "    </tr>\n",
       "    <tr>\n",
       "      <th>541905</th>\n",
       "      <td>581587</td>\n",
       "      <td>22899</td>\n",
       "      <td>CHILDREN'S APRON DOLLY GIRL</td>\n",
       "      <td>6</td>\n",
       "      <td>2011/12/9 12:50</td>\n",
       "      <td>2.10</td>\n",
       "      <td>12680.0</td>\n",
       "      <td>France</td>\n",
       "    </tr>\n",
       "    <tr>\n",
       "      <th>541906</th>\n",
       "      <td>581587</td>\n",
       "      <td>23254</td>\n",
       "      <td>CHILDRENS CUTLERY DOLLY GIRL</td>\n",
       "      <td>4</td>\n",
       "      <td>2011/12/9 12:50</td>\n",
       "      <td>4.15</td>\n",
       "      <td>12680.0</td>\n",
       "      <td>France</td>\n",
       "    </tr>\n",
       "    <tr>\n",
       "      <th>541907</th>\n",
       "      <td>581587</td>\n",
       "      <td>23255</td>\n",
       "      <td>CHILDRENS CUTLERY CIRCUS PARADE</td>\n",
       "      <td>4</td>\n",
       "      <td>2011/12/9 12:50</td>\n",
       "      <td>4.15</td>\n",
       "      <td>12680.0</td>\n",
       "      <td>France</td>\n",
       "    </tr>\n",
       "    <tr>\n",
       "      <th>541908</th>\n",
       "      <td>581587</td>\n",
       "      <td>22138</td>\n",
       "      <td>BAKING SET 9 PIECE RETROSPOT</td>\n",
       "      <td>3</td>\n",
       "      <td>2011/12/9 12:50</td>\n",
       "      <td>4.95</td>\n",
       "      <td>12680.0</td>\n",
       "      <td>France</td>\n",
       "    </tr>\n",
       "  </tbody>\n",
       "</table>\n",
       "<p>541909 rows × 8 columns</p>\n",
       "</div>"
      ],
      "text/plain": [
       "       InvoiceNo StockCode                          Description  Quantity  \\\n",
       "0         536365    85123A   WHITE HANGING HEART T-LIGHT HOLDER         6   \n",
       "1         536365     71053                  WHITE METAL LANTERN         6   \n",
       "2         536365    84406B       CREAM CUPID HEARTS COAT HANGER         8   \n",
       "3         536365    84029G  KNITTED UNION FLAG HOT WATER BOTTLE         6   \n",
       "4         536365    84029E       RED WOOLLY HOTTIE WHITE HEART.         6   \n",
       "...          ...       ...                                  ...       ...   \n",
       "541904    581587     22613          PACK OF 20 SPACEBOY NAPKINS        12   \n",
       "541905    581587     22899         CHILDREN'S APRON DOLLY GIRL          6   \n",
       "541906    581587     23254        CHILDRENS CUTLERY DOLLY GIRL          4   \n",
       "541907    581587     23255      CHILDRENS CUTLERY CIRCUS PARADE         4   \n",
       "541908    581587     22138        BAKING SET 9 PIECE RETROSPOT          3   \n",
       "\n",
       "            InvoiceDate  UnitPrice  CustomerID         Country  \n",
       "0        2010/12/1 8:26       2.55     17850.0  United Kingdom  \n",
       "1        2010/12/1 8:26       3.39     17850.0  United Kingdom  \n",
       "2        2010/12/1 8:26       2.75     17850.0  United Kingdom  \n",
       "3        2010/12/1 8:26       3.39     17850.0  United Kingdom  \n",
       "4        2010/12/1 8:26       3.39     17850.0  United Kingdom  \n",
       "...                 ...        ...         ...             ...  \n",
       "541904  2011/12/9 12:50       0.85     12680.0          France  \n",
       "541905  2011/12/9 12:50       2.10     12680.0          France  \n",
       "541906  2011/12/9 12:50       4.15     12680.0          France  \n",
       "541907  2011/12/9 12:50       4.15     12680.0          France  \n",
       "541908  2011/12/9 12:50       4.95     12680.0          France  \n",
       "\n",
       "[541909 rows x 8 columns]"
      ]
     },
     "execution_count": 277,
     "metadata": {},
     "output_type": "execute_result"
    }
   ],
   "source": [
    "df"
   ]
  },
  {
   "cell_type": "code",
   "execution_count": 278,
   "metadata": {},
   "outputs": [
    {
     "name": "stdout",
     "output_type": "stream",
     "text": [
      "Index(['InvoiceNo', 'StockCode', 'Description', 'Quantity', 'InvoiceDate',\n",
      "       'UnitPrice', 'CustomerID', 'Country'],\n",
      "      dtype='object')\n",
      "8\n"
     ]
    }
   ],
   "source": [
    "print(df.columns)\n",
    "print(len(df.columns))"
   ]
  },
  {
   "cell_type": "code",
   "execution_count": 279,
   "metadata": {},
   "outputs": [
    {
     "name": "stdout",
     "output_type": "stream",
     "text": [
      "(541909, 8)\n",
      "4335272\n"
     ]
    }
   ],
   "source": [
    "print(df.shape)\n",
    "print(df.size)"
   ]
  },
  {
   "cell_type": "code",
   "execution_count": 280,
   "metadata": {},
   "outputs": [
    {
     "name": "stdout",
     "output_type": "stream",
     "text": [
      "缺失值 InvoiceNo           0\n",
      "StockCode           0\n",
      "Description      1454\n",
      "Quantity            0\n",
      "InvoiceDate         0\n",
      "UnitPrice           0\n",
      "CustomerID     135080\n",
      "Country             0\n",
      "dtype: int64\n",
      "Description資料完整度=0.997%\n",
      "CustomerID資料完整度=0.751%\n"
     ]
    }
   ],
   "source": [
    "print('缺失值',df.isna().sum())\n",
    "print('Description資料完整度=%.3f%%'%(df['Description'].count()/541909))\n",
    "print('CustomerID資料完整度=%.3f%%'%(df['CustomerID'].count()/541909))"
   ]
  },
  {
   "cell_type": "code",
   "execution_count": 281,
   "metadata": {},
   "outputs": [
    {
     "data": {
      "text/plain": [
       "541909"
      ]
     },
     "execution_count": 281,
     "metadata": {},
     "output_type": "execute_result"
    }
   ],
   "source": [
    "df['CustomerID'].count() + 135080"
   ]
  },
  {
   "cell_type": "code",
   "execution_count": 282,
   "metadata": {},
   "outputs": [
    {
     "name": "stdout",
     "output_type": "stream",
     "text": [
      "541909\n",
      "541909\n"
     ]
    }
   ],
   "source": [
    "# 檢驗計算是否正確\n",
    "print(df['CustomerID'].count() + df['CustomerID'].isna().sum())\n",
    "print(df['Description'].count() + df['Description'].isna().sum())\n"
   ]
  },
  {
   "cell_type": "code",
   "execution_count": 283,
   "metadata": {},
   "outputs": [],
   "source": [
    "# from datetime import datetime\n",
    "\n",
    "# dateFormatter = '%Y/%M/%D %H:%M'\n",
    "# datetime.strptime(df['InvoiceDate'],dateFormatter)\n",
    "\n",
    "df['InvoiceDate'] = pd.to_datetime(df['InvoiceDate'])"
   ]
  },
  {
   "cell_type": "code",
   "execution_count": 284,
   "metadata": {},
   "outputs": [
    {
     "name": "stdout",
     "output_type": "stream",
     "text": [
      "0         17850.0\n",
      "1         17850.0\n",
      "2         17850.0\n",
      "3         17850.0\n",
      "4         17850.0\n",
      "           ...   \n",
      "541904    12680.0\n",
      "541905    12680.0\n",
      "541906    12680.0\n",
      "541907    12680.0\n",
      "541908    12680.0\n",
      "Name: CustomerID, Length: 541909, dtype: float64\n"
     ]
    }
   ],
   "source": [
    "print(df['CustomerID'])"
   ]
  },
  {
   "cell_type": "code",
   "execution_count": 285,
   "metadata": {},
   "outputs": [
    {
     "name": "stdout",
     "output_type": "stream",
     "text": [
      "<class 'str'>\n",
      "<class 'str'>\n",
      "<class 'str'>\n",
      "<class 'str'>\n",
      "<class 'str'>\n",
      "<class 'str'>\n",
      "<class 'str'>\n",
      "<class 'str'>\n"
     ]
    }
   ],
   "source": [
    "for i in df:\n",
    "    print(type(i))"
   ]
  },
  {
   "cell_type": "markdown",
   "metadata": {},
   "source": [
    "#### 資料檢閱\n",
    "- 該零售數據有8個欄位、541,909筆資料\n",
    "- 整體資料量 4,335,272\n",
    "##### 欄位類別\n",
    "    - InvoiceNo:訂單號碼 - StockCode:商品編號 - Description:商品描述\n",
    "    - Quantity:數量 - InvoiceDate:下單日期 - UnitPrice:商品單價\n",
    "    - CustomerID:客戶編號 - Country:國家\n",
    "##### 缺失值\n",
    "    - Description/商品描述 有1454筆缺失  資料完整度=0.997%\n",
    "    - CustomerID/客戶編號 有135080筆缺失 資料完整度=0.751%\n",
    "    - 其餘資料無缺失值\n"
   ]
  },
  {
   "cell_type": "code",
   "execution_count": 286,
   "metadata": {},
   "outputs": [
    {
     "name": "stdout",
     "output_type": "stream",
     "text": [
      "最初時間 2011-12-09 12:50:00\n",
      "最後時間 2010-12-01 08:26:00\n",
      "時間差 373 days 04:24:00\n"
     ]
    }
   ],
   "source": [
    "import datetime\n",
    "print('最初時間',df['InvoiceDate'].max())\n",
    "print('最後時間',df['InvoiceDate'].min())\n",
    "print('時間差',(df['InvoiceDate'].max())-(df['InvoiceDate'].min()))"
   ]
  },
  {
   "cell_type": "markdown",
   "metadata": {},
   "source": [
    "統計時間從2010-12-01 到 2011-12-09 共373天\n"
   ]
  },
  {
   "cell_type": "code",
   "execution_count": 287,
   "metadata": {},
   "outputs": [
    {
     "name": "stdout",
     "output_type": "stream",
     "text": [
      "<class 'pandas.core.frame.DataFrame'>\n",
      "RangeIndex: 541909 entries, 0 to 541908\n",
      "Data columns (total 8 columns):\n",
      " #   Column       Non-Null Count   Dtype         \n",
      "---  ------       --------------   -----         \n",
      " 0   InvoiceNo    541909 non-null  object        \n",
      " 1   StockCode    541909 non-null  object        \n",
      " 2   Description  540455 non-null  object        \n",
      " 3   Quantity     541909 non-null  int64         \n",
      " 4   InvoiceDate  541909 non-null  datetime64[ns]\n",
      " 5   UnitPrice    541909 non-null  float64       \n",
      " 6   CustomerID   406829 non-null  float64       \n",
      " 7   Country      541909 non-null  object        \n",
      "dtypes: datetime64[ns](1), float64(2), int64(1), object(4)\n",
      "memory usage: 33.1+ MB\n"
     ]
    }
   ],
   "source": [
    "df.info(type)"
   ]
  },
  {
   "cell_type": "code",
   "execution_count": 288,
   "metadata": {},
   "outputs": [
    {
     "data": {
      "text/html": [
       "<div>\n",
       "<style scoped>\n",
       "    .dataframe tbody tr th:only-of-type {\n",
       "        vertical-align: middle;\n",
       "    }\n",
       "\n",
       "    .dataframe tbody tr th {\n",
       "        vertical-align: top;\n",
       "    }\n",
       "\n",
       "    .dataframe thead th {\n",
       "        text-align: right;\n",
       "    }\n",
       "</style>\n",
       "<table border=\"1\" class=\"dataframe\">\n",
       "  <thead>\n",
       "    <tr style=\"text-align: right;\">\n",
       "      <th></th>\n",
       "      <th>Quantity</th>\n",
       "      <th>UnitPrice</th>\n",
       "      <th>CustomerID</th>\n",
       "    </tr>\n",
       "  </thead>\n",
       "  <tbody>\n",
       "    <tr>\n",
       "      <th>count</th>\n",
       "      <td>541909.000000</td>\n",
       "      <td>541909.000000</td>\n",
       "      <td>406829.000000</td>\n",
       "    </tr>\n",
       "    <tr>\n",
       "      <th>mean</th>\n",
       "      <td>9.552250</td>\n",
       "      <td>4.611114</td>\n",
       "      <td>15287.690570</td>\n",
       "    </tr>\n",
       "    <tr>\n",
       "      <th>std</th>\n",
       "      <td>218.081158</td>\n",
       "      <td>96.759853</td>\n",
       "      <td>1713.600303</td>\n",
       "    </tr>\n",
       "    <tr>\n",
       "      <th>min</th>\n",
       "      <td>-80995.000000</td>\n",
       "      <td>-11062.060000</td>\n",
       "      <td>12346.000000</td>\n",
       "    </tr>\n",
       "    <tr>\n",
       "      <th>25%</th>\n",
       "      <td>1.000000</td>\n",
       "      <td>1.250000</td>\n",
       "      <td>13953.000000</td>\n",
       "    </tr>\n",
       "    <tr>\n",
       "      <th>50%</th>\n",
       "      <td>3.000000</td>\n",
       "      <td>2.080000</td>\n",
       "      <td>15152.000000</td>\n",
       "    </tr>\n",
       "    <tr>\n",
       "      <th>75%</th>\n",
       "      <td>10.000000</td>\n",
       "      <td>4.130000</td>\n",
       "      <td>16791.000000</td>\n",
       "    </tr>\n",
       "    <tr>\n",
       "      <th>max</th>\n",
       "      <td>80995.000000</td>\n",
       "      <td>38970.000000</td>\n",
       "      <td>18287.000000</td>\n",
       "    </tr>\n",
       "  </tbody>\n",
       "</table>\n",
       "</div>"
      ],
      "text/plain": [
       "            Quantity      UnitPrice     CustomerID\n",
       "count  541909.000000  541909.000000  406829.000000\n",
       "mean        9.552250       4.611114   15287.690570\n",
       "std       218.081158      96.759853    1713.600303\n",
       "min    -80995.000000  -11062.060000   12346.000000\n",
       "25%         1.000000       1.250000   13953.000000\n",
       "50%         3.000000       2.080000   15152.000000\n",
       "75%        10.000000       4.130000   16791.000000\n",
       "max     80995.000000   38970.000000   18287.000000"
      ]
     },
     "execution_count": 288,
     "metadata": {},
     "output_type": "execute_result"
    }
   ],
   "source": [
    "df.describe()"
   ]
  },
  {
   "cell_type": "code",
   "execution_count": 289,
   "metadata": {},
   "outputs": [
    {
     "data": {
      "text/plain": [
       "540422   -80995\n",
       "61624    -74215\n",
       "225529    -9600\n",
       "225530    -9600\n",
       "4287      -9360\n",
       "225528    -9058\n",
       "115818    -5368\n",
       "431381    -4830\n",
       "341601    -3667\n",
       "323458    -3167\n",
       "160145    -3114\n",
       "263884    -3100\n",
       "113580    -3000\n",
       "375429    -2880\n",
       "270886    -2834\n",
       "431378    -2618\n",
       "50849     -2600\n",
       "131399    -2472\n",
       "185113    -2376\n",
       "431379    -2003\n",
       "160144    -2000\n",
       "160143    -1930\n",
       "323469    -1897\n",
       "242906    -1681\n",
       "431376    -1671\n",
       "445127    -1560\n",
       "224419    -1515\n",
       "174654    -1512\n",
       "472841    -1510\n",
       "151033    -1479\n",
       "229728    -1440\n",
       "234739    -1440\n",
       "234740    -1440\n",
       "234764    -1440\n",
       "234765    -1440\n",
       "375427    -1440\n",
       "375428    -1440\n",
       "82794     -1430\n",
       "65063     -1400\n",
       "187609    -1350\n",
       "160142    -1300\n",
       "203752    -1300\n",
       "203761    -1300\n",
       "390544    -1296\n",
       "390548    -1296\n",
       "445128    -1284\n",
       "115505    -1277\n",
       "221186    -1206\n",
       "114539    -1200\n",
       "377448    -1200\n",
       "Name: Quantity, dtype: int64"
      ]
     },
     "execution_count": 289,
     "metadata": {},
     "output_type": "execute_result"
    }
   ],
   "source": [
    "df['Quantity'].nsmallest(50) # 對Quantity(數量)取前50最小的值"
   ]
  },
  {
   "cell_type": "code",
   "execution_count": 290,
   "metadata": {},
   "outputs": [
    {
     "data": {
      "text/plain": [
       "299983   -11062.06\n",
       "299984   -11062.06\n",
       "622           0.00\n",
       "1970          0.00\n",
       "1971          0.00\n",
       "1972          0.00\n",
       "1987          0.00\n",
       "1988          0.00\n",
       "2024          0.00\n",
       "2025          0.00\n",
       "2026          0.00\n",
       "2406          0.00\n",
       "4347          0.00\n",
       "4348          0.00\n",
       "6391          0.00\n",
       "6392          0.00\n",
       "7187          0.00\n",
       "7188          0.00\n",
       "7189          0.00\n",
       "7190          0.00\n",
       "Name: UnitPrice, dtype: float64"
      ]
     },
     "execution_count": 290,
     "metadata": {},
     "output_type": "execute_result"
    }
   ],
   "source": [
    "df['UnitPrice'].nsmallest(20) # 對UnitPrice(單價)取前20最小的值"
   ]
  },
  {
   "cell_type": "code",
   "execution_count": 291,
   "metadata": {},
   "outputs": [
    {
     "name": "stderr",
     "output_type": "stream",
     "text": [
      "*c* argument looks like a single numeric RGB or RGBA sequence, which should be avoided as value-mapping will have precedence in case its length matches with *x* & *y*.  Please use the *color* keyword-argument or provide a 2D array with a single row if you intend to specify the same RGB or RGBA value for all points.\n"
     ]
    },
    {
     "data": {
      "text/plain": [
       "<AxesSubplot:xlabel='InvoiceDate', ylabel='UnitPrice'>"
      ]
     },
     "execution_count": 291,
     "metadata": {},
     "output_type": "execute_result"
    },
    {
     "data": {
      "image/png": "[encoded data removed]",
      "text/plain": [
       "<Figure size 432x288 with 1 Axes>"
      ]
     },
     "metadata": {},
     "output_type": "display_data"
    }
   ],
   "source": [
    "df.plot(x='InvoiceDate',y='UnitPrice',kind='scatter') # 觀察所有交易單價的分布狀況"
   ]
  },
  {
   "cell_type": "code",
   "execution_count": 292,
   "metadata": {},
   "outputs": [
    {
     "name": "stderr",
     "output_type": "stream",
     "text": [
      "*c* argument looks like a single numeric RGB or RGBA sequence, which should be avoided as value-mapping will have precedence in case its length matches with *x* & *y*.  Please use the *color* keyword-argument or provide a 2D array with a single row if you intend to specify the same RGB or RGBA value for all points.\n"
     ]
    },
    {
     "data": {
      "text/plain": [
       "<AxesSubplot:xlabel='InvoiceDate', ylabel='Quantity'>"
      ]
     },
     "execution_count": 292,
     "metadata": {},
     "output_type": "execute_result"
    },
    {
     "data": {
      "image/png": "[encoded data removed]",
      "text/plain": [
       "<Figure size 432x288 with 1 Axes>"
      ]
     },
     "metadata": {},
     "output_type": "display_data"
    }
   ],
   "source": [
    "df.plot(x='InvoiceDate',y='Quantity',kind='scatter') # 觀察所有交易數量的分布狀況"
   ]
  },
  {
   "cell_type": "markdown",
   "metadata": {},
   "source": [
    "根據對數值資料的簡單統計發現，Quantity(數量)以及UnitPrice(單價)都有負數的值\n",
    "\n",
    "Quantity 取最小值到50筆都還是負數，負數資料應該不少\n",
    "\n",
    "UnitPrice 取最小值到20筆僅有前兩筆為負數不過，分別為索引第 299983、299984 其餘皆為 0\n",
    "\n",
    "另外Quantity中最大值 80995 而最小值 -80995 ，需要進一步解析Quantity最大與最小值資料兩者關係\n",
    "\n",
    "初步分析方向為解析這些欄位中的正、負數分布以及涵義\n",
    "\n",
    "已經知道InvoiceID中開頭為'C'的訂單編號是退貨訂單，所以Quantity為負數應該就是那些訂單編號開頭為'C'的退貨訂單，接下來會進一步檢驗是否所有開頭為'C'的InvoiceID的Quantity都是負數，沒有被誤植且對統計造成偏差的資料\n",
    "\n"
   ]
  },
  {
   "cell_type": "code",
   "execution_count": 293,
   "metadata": {},
   "outputs": [
    {
     "name": "stdout",
     "output_type": "stream",
     "text": [
      "0         15.30\n",
      "1         20.34\n",
      "2         22.00\n",
      "3         20.34\n",
      "4         20.34\n",
      "          ...  \n",
      "541904    10.20\n",
      "541905    12.60\n",
      "541906    16.60\n",
      "541907    16.60\n",
      "541908    14.85\n",
      "Name: Revenue, Length: 541909, dtype: float64\n",
      "count    541909.000000\n",
      "mean         17.987795\n",
      "std         378.810824\n",
      "min     -168469.600000\n",
      "25%           3.400000\n",
      "50%           9.750000\n",
      "75%          17.400000\n",
      "max      168469.600000\n",
      "Name: Revenue, dtype: float64\n",
      "df['Revenue']的型態 float64\n"
     ]
    }
   ],
   "source": [
    "# 使用單價-UnitPrice與數量-Quantity欄位計算利潤-Revenue\n",
    "df['Revenue'] = df['Quantity'] * df['UnitPrice']\n",
    "print(df['Revenue'])\n",
    "print(df['Revenue'].describe())\n",
    "print('df[\\'Revenue\\']的型態',(df['Revenue'].dtype))"
   ]
  },
  {
   "cell_type": "code",
   "execution_count": 294,
   "metadata": {},
   "outputs": [
    {
     "name": "stdout",
     "output_type": "stream",
     "text": [
      "Revenue大於0的交易筆數530100\n",
      "Revenue小於0的交易筆數9290\n",
      "整等體筆數541909減去大於0以及小於0的交易筆數= 2515\n",
      "Revenue等於0的交易筆數2519\n",
      "驗算 541909\n"
     ]
    }
   ],
   "source": [
    "# 拆分正利潤與負利潤交易\n",
    "surplus = (df['Revenue'] > 0)\n",
    "Positive_Revenue = df[surplus]\n",
    "print('Revenue大於0的交易筆數{}'.format(Positive_Revenue['Revenue'].count()))\n",
    "\n",
    "deficit = (df['Revenue'] < 0)\n",
    "Negative_Revenue = df[deficit]\n",
    "print('Revenue小於0的交易筆數{}'.format(Negative_Revenue['Revenue'].count()))\n",
    "\n",
    "print('整等體筆數541909減去大於0以及小於0的交易筆數=',541909 - (530104 + 9290))\n",
    "# 應該還有2515筆交易利潤於 0\n",
    "\n",
    "# 找出零利潤交易\n",
    "Zero = (df['Revenue'] == 0)\n",
    "Zero_Revenue = df[Zero]\n",
    "print('Revenue等於0的交易筆數{}'.format(Zero_Revenue['Revenue'].count()))\n",
    "print('驗算',Positive_Revenue['Revenue'].count() + \n",
    "        Negative_Revenue['Revenue'].count() +\n",
    "        Zero_Revenue['Revenue'].count())"
   ]
  },
  {
   "cell_type": "code",
   "execution_count": 295,
   "metadata": {},
   "outputs": [
    {
     "name": "stdout",
     "output_type": "stream",
     "text": [
      "正收益總額10666684.54\n",
      "負收益總額-918936.61\n",
      "兩者相差9747747.93\n",
      "負收益正收益比率0.09\n",
      "負收益佔利潤比率0.09\n"
     ]
    }
   ],
   "source": [
    "print('正收益總額%.2f'%Positive_Revenue['Revenue'].sum())\n",
    "print('負收益總額%.2f'%Negative_Revenue['Revenue'].sum())\n",
    "print('兩者相差%.2f'%(Positive_Revenue['Revenue'].sum() + Negative_Revenue['Revenue'].sum()))\n",
    "print('負收益正收益比率%.2f'%(Negative_Revenue['Revenue'].abs().sum()/Positive_Revenue['Revenue'].sum()))\n",
    "print('負收益佔利潤比率%.2f'%(Negative_Revenue['Revenue'].abs().sum()/\n",
    "                            (Positive_Revenue['Revenue'].sum()-Negative_Revenue['Revenue'].abs().sum())))"
   ]
  },
  {
   "cell_type": "code",
   "execution_count": 296,
   "metadata": {},
   "outputs": [
    {
     "data": {
      "text/plain": [
       "count    541909.000000\n",
       "mean         17.987795\n",
       "std         378.810824\n",
       "min     -168469.600000\n",
       "25%           3.400000\n",
       "50%           9.750000\n",
       "75%          17.400000\n",
       "max      168469.600000\n",
       "Name: Revenue, dtype: float64"
      ]
     },
     "execution_count": 296,
     "metadata": {},
     "output_type": "execute_result"
    }
   ],
   "source": [
    "df['Revenue'].describe()"
   ]
  },
  {
   "cell_type": "markdown",
   "metadata": {},
   "source": [
    "##### Revenue收益初步分析\n",
    "- 正負交易筆數方面\n",
    "    - 收益大於0的交易筆數為530,104筆\n",
    "    - 收益小於0的交易筆數為9,290筆\n",
    "    - 收益等於0的交易為2,515筆\n",
    "- 正負交易總額方面(單位：英鎊)\n",
    "    - 正收益的交易總額為 10,666,684.54\n",
    "    - 負收益的交易總額為 -918,936.61\n",
    "    - 正減去負的交易總額為 9,747,747.93，此為確實帶來利潤的交易\n",
    "    - 負收益總額佔正收益總額約 9%\n",
    "    - 負收益總額佔利潤總額約 9%"
   ]
  },
  {
   "cell_type": "code",
   "execution_count": 297,
   "metadata": {},
   "outputs": [
    {
     "data": {
      "text/plain": [
       "0.09427163015207514"
      ]
     },
     "execution_count": 297,
     "metadata": {},
     "output_type": "execute_result"
    }
   ],
   "source": [
    "918936/9747747"
   ]
  },
  {
   "cell_type": "code",
   "execution_count": 298,
   "metadata": {},
   "outputs": [
    {
     "data": {
      "text/plain": [
       "Index(['InvoiceNo', 'StockCode', 'Description', 'Quantity', 'InvoiceDate',\n",
       "       'UnitPrice', 'CustomerID', 'Country', 'Revenue'],\n",
       "      dtype='object')"
      ]
     },
     "execution_count": 298,
     "metadata": {},
     "output_type": "execute_result"
    }
   ],
   "source": [
    "df.columns"
   ]
  },
  {
   "cell_type": "markdown",
   "metadata": {},
   "source": [
    "檢驗退貨訂單數量"
   ]
  },
  {
   "cell_type": "code",
   "execution_count": 299,
   "metadata": {},
   "outputs": [
    {
     "name": "stdout",
     "output_type": "stream",
     "text": [
      "所有退貨訂單數量=9288\n",
      "所有退貨訂單的Quantity不小於0的數量=9288\n",
      "所有退貨訂單的UnitPrice都大於0的數量=9288\n"
     ]
    }
   ],
   "source": [
    "Return_Order = df['InvoiceNo'].str.startswith('C',na=False) #! 先前檢驗InvoiceNo是沒有缺失值\n",
    "#! 但是其他欄位有缺失值在此條件會出現error，因此設定na=False\n",
    "\n",
    "print('所有退貨訂單數量=%4d'%df.loc[Return_Order,['InvoiceNo']].count()) # 計算InvoiceNo為'C'開頭代表退貨訂單的數量\n",
    "print('所有退貨訂單的Quantity不小於0的數量=%4d'%(df.loc[Return_Order,['Quantity']]<0).sum()) # 檢驗是否所有退貨訂單的Quantity都小於0\n",
    "print('所有退貨訂單的UnitPrice都大於0的數量=%4d'%(df.loc[Return_Order,['UnitPrice']] > 0).sum()) # 檢驗是否有退貨的訂單的UnitPrice小於or等於0的情況"
   ]
  },
  {
   "cell_type": "markdown",
   "metadata": {},
   "source": [
    "確認所有InvoiceNo為'C'開頭的訂單的Quantity都小於0，以及UnitPrice都不低於0，同時確認目前Revenue欄位估算出來的值都是合理的"
   ]
  },
  {
   "cell_type": "code",
   "execution_count": 300,
   "metadata": {},
   "outputs": [
    {
     "name": "stdout",
     "output_type": "stream",
     "text": [
      "所有退貨訂單的退款總額:-896812.49\n",
      "所有退貨訂單的退款總額與負收益差額:22124.12\n",
      "退貨訂單退款佔負收益的比率:0.98\n"
     ]
    }
   ],
   "source": [
    "# 計算所有退貨訂單的退款總額\n",
    "print('所有退貨訂單的退款總額:%.2f'%df.loc[Return_Order,['Revenue']].sum())\n",
    "print('所有退貨訂單的退款總額與負收益差額:%.2f'%(Negative_Revenue['Revenue'].sum()-df.loc[Return_Order,['Revenue']].sum()).abs())\n",
    "print('退貨訂單退款佔負收益的比率:%.2f'%(df.loc[Return_Order,['Revenue']].sum()/Negative_Revenue['Revenue'].sum()))"
   ]
  },
  {
   "cell_type": "markdown",
   "metadata": {},
   "source": [
    "計算所有的退貨訂單的退款額為: 896,812.49\n",
    "\n",
    "全部的負收益中退貨的退款額佔道: 98%\n",
    "\n",
    "另外負收益中還有 22,124.12 的差額不確定是什麼造成"
   ]
  },
  {
   "cell_type": "markdown",
   "metadata": {},
   "source": [
    "##### 對部分極值做解析"
   ]
  },
  {
   "cell_type": "code",
   "execution_count": 301,
   "metadata": {},
   "outputs": [
    {
     "name": "stderr",
     "output_type": "stream",
     "text": [
      "c:\\Users\\NiuNi\\OneDrive\\桌面\\thu_ai\\thu\\lib\\site-packages\\seaborn\\_decorators.py:36: FutureWarning: Pass the following variables as keyword args: x, y. From version 0.12, the only valid positional argument will be `data`, and passing other arguments without an explicit keyword will result in an error or misinterpretation.\n",
      "  warnings.warn(\n"
     ]
    },
    {
     "data": {
      "image/png": "[encoded data removed]",
      "text/plain": [
       "<Figure size 432x288 with 1 Axes>"
      ]
     },
     "metadata": {},
     "output_type": "display_data"
    }
   ],
   "source": [
    "sns.scatterplot(df['CustomerID'],df['Revenue'],data=df,hue=df['Quantity'])\n",
    "sns.set(style='dark')\n",
    "plt.legend(bbox_to_anchor = (1,1))\n",
    "plt.title('A')\n",
    "plt.show()"
   ]
  },
  {
   "cell_type": "markdown",
   "metadata": {},
   "source": [
    "以上為每個CustomerID的Revenue分布圖，較深色以及較淺色的點是在退貨or下單的Quantity較大的部分\n",
    "\n",
    "同時，這些極值的點是正負對稱推測應該是同個客戶下單後又退貨，推測有可能下單下錯數量或是產品確實有問題，不過還是要進一步把這些點的詳細資料抓出來觀察"
   ]
  },
  {
   "cell_type": "code",
   "execution_count": 302,
   "metadata": {},
   "outputs": [
    {
     "name": "stderr",
     "output_type": "stream",
     "text": [
      "c:\\Users\\NiuNi\\OneDrive\\桌面\\thu_ai\\thu\\lib\\site-packages\\seaborn\\_decorators.py:36: FutureWarning: Pass the following variables as keyword args: x, y. From version 0.12, the only valid positional argument will be `data`, and passing other arguments without an explicit keyword will result in an error or misinterpretation.\n",
      "  warnings.warn(\n"
     ]
    },
    {
     "data": {
      "image/png": "[encoded data removed]",
      "text/plain": [
       "<Figure size 432x288 with 1 Axes>"
      ]
     },
     "metadata": {},
     "output_type": "display_data"
    }
   ],
   "source": [
    "sns.scatterplot(df['Quantity'],df['UnitPrice'],data=df,hue='Revenue') # palette調色\n",
    "sns.set(style='dark',)\n",
    "plt.title('B')\n",
    "plt.show()"
   ]
  },
  {
   "cell_type": "markdown",
   "metadata": {},
   "source": [
    "此圖為UnitPrice和Quantity的分布圖，點的深淺代表此訂單帶來的Revenue多寡，此圖的重點在於y軸的UnitPrice，因為大部分的訂單下的Quantity分布上來看其實都不算多\n",
    "\n",
    "所以在這裡將找出Quantity低但是UnitPrice較高的商品來進一步觀察，這些UnitPrice高的訂單的客戶是誰?買了甚麼?是否退貨率高?等等的資訊"
   ]
  },
  {
   "cell_type": "code",
   "execution_count": 303,
   "metadata": {},
   "outputs": [
    {
     "name": "stdout",
     "output_type": "stream",
     "text": [
      "       InvoiceNo StockCode                     Description  Quantity  \\\n",
      "61619     541431     23166  MEDIUM CERAMIC TOP STORAGE JAR     74215   \n",
      "222680    556444     22502  PICNIC BASKET WICKER 60 PIECES        60   \n",
      "540421    581483     23843     PAPER CRAFT , LITTLE BIRDIE     80995   \n",
      "\n",
      "               InvoiceDate  UnitPrice  CustomerID         Country   Revenue  \n",
      "61619  2011-01-18 10:01:00       1.04     12346.0  United Kingdom   77183.6  \n",
      "222680 2011-06-10 15:28:00     649.50     15098.0  United Kingdom   38970.0  \n",
      "540421 2011-12-09 09:15:00       2.08     16446.0  United Kingdom  168469.6  \n"
     ]
    }
   ],
   "source": [
    "Revenue_high = df['Revenue'] >= 25000\n",
    "print(df[Revenue_high])"
   ]
  },
  {
   "cell_type": "code",
   "execution_count": 304,
   "metadata": {},
   "outputs": [
    {
     "name": "stdout",
     "output_type": "stream",
     "text": [
      "       InvoiceNo StockCode                     Description  Quantity  \\\n",
      "61624    C541433     23166  MEDIUM CERAMIC TOP STORAGE JAR    -74215   \n",
      "222681   C556445         M                          Manual        -1   \n",
      "540422   C581484     23843     PAPER CRAFT , LITTLE BIRDIE    -80995   \n",
      "\n",
      "               InvoiceDate  UnitPrice  CustomerID         Country   Revenue  \n",
      "61624  2011-01-18 10:17:00       1.04     12346.0  United Kingdom  -77183.6  \n",
      "222681 2011-06-10 15:31:00   38970.00     15098.0  United Kingdom  -38970.0  \n",
      "540422 2011-12-09 09:27:00       2.08     16446.0  United Kingdom -168469.6  \n"
     ]
    }
   ],
   "source": [
    "Revenue_low = df['Revenue'] <= -25000\n",
    "print(df[Revenue_low])"
   ]
  },
  {
   "cell_type": "code",
   "execution_count": 305,
   "metadata": {},
   "outputs": [
    {
     "name": "stdout",
     "output_type": "stream",
     "text": [
      "61619    2011-01-18 10:01:00\n",
      "222680   2011-06-10 15:28:00\n",
      "540421   2011-12-09 09:15:00\n",
      "Name: InvoiceDate, dtype: datetime64[ns]\n",
      "61624    2011-01-18 10:17:00\n",
      "222681   2011-06-10 15:31:00\n",
      "540422   2011-12-09 09:27:00\n",
      "Name: InvoiceDate, dtype: datetime64[ns]\n"
     ]
    }
   ],
   "source": [
    "# 對筆下單與退貨時間的差別\n",
    "print(df[Revenue_high]['InvoiceDate'])\n",
    "print(df[Revenue_low]['InvoiceDate'])"
   ]
  },
  {
   "cell_type": "markdown",
   "metadata": {},
   "source": [
    "針對圖A中的極值，找出它們的詳細資料互相比對確認為3個客戶的下單與退貨,下單同一商品除了InvoiceNo:556444/C556445的CustomerID都是15098不過在StockCode/Description/Quantity不一樣，應該key單時錯誤\n",
    "\n",
    "另外比較兩者的InvoiceDate發現下單和退貨的時間僅僅相差幾分鐘，所以較大可能是下錯訂單所以取消，因此這些Quantity非常大或非常小的訂單應該可以刪去，因為本身就是無意義的訂單\n",
    "\n",
    "另外再看一下這三位客戶是否有下其他訂單，交易的詳細資訊如何"
   ]
  },
  {
   "cell_type": "code",
   "execution_count": 306,
   "metadata": {},
   "outputs": [
    {
     "data": {
      "text/html": [
       "<div>\n",
       "<style scoped>\n",
       "    .dataframe tbody tr th:only-of-type {\n",
       "        vertical-align: middle;\n",
       "    }\n",
       "\n",
       "    .dataframe tbody tr th {\n",
       "        vertical-align: top;\n",
       "    }\n",
       "\n",
       "    .dataframe thead th {\n",
       "        text-align: right;\n",
       "    }\n",
       "</style>\n",
       "<table border=\"1\" class=\"dataframe\">\n",
       "  <thead>\n",
       "    <tr style=\"text-align: right;\">\n",
       "      <th></th>\n",
       "      <th>InvoiceNo</th>\n",
       "      <th>StockCode</th>\n",
       "      <th>Description</th>\n",
       "      <th>Quantity</th>\n",
       "      <th>InvoiceDate</th>\n",
       "      <th>UnitPrice</th>\n",
       "      <th>CustomerID</th>\n",
       "      <th>Country</th>\n",
       "      <th>Revenue</th>\n",
       "    </tr>\n",
       "  </thead>\n",
       "  <tbody>\n",
       "    <tr>\n",
       "      <th>61619</th>\n",
       "      <td>541431</td>\n",
       "      <td>23166</td>\n",
       "      <td>MEDIUM CERAMIC TOP STORAGE JAR</td>\n",
       "      <td>74215</td>\n",
       "      <td>2011-01-18 10:01:00</td>\n",
       "      <td>1.04</td>\n",
       "      <td>12346.0</td>\n",
       "      <td>United Kingdom</td>\n",
       "      <td>77183.6</td>\n",
       "    </tr>\n",
       "    <tr>\n",
       "      <th>61624</th>\n",
       "      <td>C541433</td>\n",
       "      <td>23166</td>\n",
       "      <td>MEDIUM CERAMIC TOP STORAGE JAR</td>\n",
       "      <td>-74215</td>\n",
       "      <td>2011-01-18 10:17:00</td>\n",
       "      <td>1.04</td>\n",
       "      <td>12346.0</td>\n",
       "      <td>United Kingdom</td>\n",
       "      <td>-77183.6</td>\n",
       "    </tr>\n",
       "  </tbody>\n",
       "</table>\n",
       "</div>"
      ],
      "text/plain": [
       "      InvoiceNo StockCode                     Description  Quantity  \\\n",
       "61619    541431     23166  MEDIUM CERAMIC TOP STORAGE JAR     74215   \n",
       "61624   C541433     23166  MEDIUM CERAMIC TOP STORAGE JAR    -74215   \n",
       "\n",
       "              InvoiceDate  UnitPrice  CustomerID         Country  Revenue  \n",
       "61619 2011-01-18 10:01:00       1.04     12346.0  United Kingdom  77183.6  \n",
       "61624 2011-01-18 10:17:00       1.04     12346.0  United Kingdom -77183.6  "
      ]
     },
     "execution_count": 306,
     "metadata": {},
     "output_type": "execute_result"
    }
   ],
   "source": [
    "(df[df['CustomerID']== 12346])"
   ]
  },
  {
   "cell_type": "code",
   "execution_count": 307,
   "metadata": {},
   "outputs": [
    {
     "data": {
      "text/html": [
       "<div>\n",
       "<style scoped>\n",
       "    .dataframe tbody tr th:only-of-type {\n",
       "        vertical-align: middle;\n",
       "    }\n",
       "\n",
       "    .dataframe tbody tr th {\n",
       "        vertical-align: top;\n",
       "    }\n",
       "\n",
       "    .dataframe thead th {\n",
       "        text-align: right;\n",
       "    }\n",
       "</style>\n",
       "<table border=\"1\" class=\"dataframe\">\n",
       "  <thead>\n",
       "    <tr style=\"text-align: right;\">\n",
       "      <th></th>\n",
       "      <th>InvoiceNo</th>\n",
       "      <th>StockCode</th>\n",
       "      <th>Description</th>\n",
       "      <th>Quantity</th>\n",
       "      <th>InvoiceDate</th>\n",
       "      <th>UnitPrice</th>\n",
       "      <th>CustomerID</th>\n",
       "      <th>Country</th>\n",
       "      <th>Revenue</th>\n",
       "    </tr>\n",
       "  </thead>\n",
       "  <tbody>\n",
       "    <tr>\n",
       "      <th>222670</th>\n",
       "      <td>556442</td>\n",
       "      <td>22502</td>\n",
       "      <td>PICNIC BASKET WICKER SMALL</td>\n",
       "      <td>60</td>\n",
       "      <td>2011-06-10 15:22:00</td>\n",
       "      <td>4.95</td>\n",
       "      <td>15098.0</td>\n",
       "      <td>United Kingdom</td>\n",
       "      <td>297.0</td>\n",
       "    </tr>\n",
       "    <tr>\n",
       "      <th>222680</th>\n",
       "      <td>556444</td>\n",
       "      <td>22502</td>\n",
       "      <td>PICNIC BASKET WICKER 60 PIECES</td>\n",
       "      <td>60</td>\n",
       "      <td>2011-06-10 15:28:00</td>\n",
       "      <td>649.50</td>\n",
       "      <td>15098.0</td>\n",
       "      <td>United Kingdom</td>\n",
       "      <td>38970.0</td>\n",
       "    </tr>\n",
       "    <tr>\n",
       "      <th>222681</th>\n",
       "      <td>C556445</td>\n",
       "      <td>M</td>\n",
       "      <td>Manual</td>\n",
       "      <td>-1</td>\n",
       "      <td>2011-06-10 15:31:00</td>\n",
       "      <td>38970.00</td>\n",
       "      <td>15098.0</td>\n",
       "      <td>United Kingdom</td>\n",
       "      <td>-38970.0</td>\n",
       "    </tr>\n",
       "    <tr>\n",
       "      <th>222682</th>\n",
       "      <td>556446</td>\n",
       "      <td>22502</td>\n",
       "      <td>PICNIC BASKET WICKER 60 PIECES</td>\n",
       "      <td>1</td>\n",
       "      <td>2011-06-10 15:33:00</td>\n",
       "      <td>649.50</td>\n",
       "      <td>15098.0</td>\n",
       "      <td>United Kingdom</td>\n",
       "      <td>649.5</td>\n",
       "    </tr>\n",
       "    <tr>\n",
       "      <th>222692</th>\n",
       "      <td>C556448</td>\n",
       "      <td>22502</td>\n",
       "      <td>PICNIC BASKET WICKER SMALL</td>\n",
       "      <td>-60</td>\n",
       "      <td>2011-06-10 15:39:00</td>\n",
       "      <td>4.95</td>\n",
       "      <td>15098.0</td>\n",
       "      <td>United Kingdom</td>\n",
       "      <td>-297.0</td>\n",
       "    </tr>\n",
       "  </tbody>\n",
       "</table>\n",
       "</div>"
      ],
      "text/plain": [
       "       InvoiceNo StockCode                     Description  Quantity  \\\n",
       "222670    556442     22502      PICNIC BASKET WICKER SMALL        60   \n",
       "222680    556444     22502  PICNIC BASKET WICKER 60 PIECES        60   \n",
       "222681   C556445         M                          Manual        -1   \n",
       "222682    556446     22502  PICNIC BASKET WICKER 60 PIECES         1   \n",
       "222692   C556448     22502      PICNIC BASKET WICKER SMALL       -60   \n",
       "\n",
       "               InvoiceDate  UnitPrice  CustomerID         Country  Revenue  \n",
       "222670 2011-06-10 15:22:00       4.95     15098.0  United Kingdom    297.0  \n",
       "222680 2011-06-10 15:28:00     649.50     15098.0  United Kingdom  38970.0  \n",
       "222681 2011-06-10 15:31:00   38970.00     15098.0  United Kingdom -38970.0  \n",
       "222682 2011-06-10 15:33:00     649.50     15098.0  United Kingdom    649.5  \n",
       "222692 2011-06-10 15:39:00       4.95     15098.0  United Kingdom   -297.0  "
      ]
     },
     "execution_count": 307,
     "metadata": {},
     "output_type": "execute_result"
    }
   ],
   "source": [
    "(df[df['CustomerID']== 15098])"
   ]
  },
  {
   "cell_type": "code",
   "execution_count": 308,
   "metadata": {},
   "outputs": [
    {
     "data": {
      "text/html": [
       "<div>\n",
       "<style scoped>\n",
       "    .dataframe tbody tr th:only-of-type {\n",
       "        vertical-align: middle;\n",
       "    }\n",
       "\n",
       "    .dataframe tbody tr th {\n",
       "        vertical-align: top;\n",
       "    }\n",
       "\n",
       "    .dataframe thead th {\n",
       "        text-align: right;\n",
       "    }\n",
       "</style>\n",
       "<table border=\"1\" class=\"dataframe\">\n",
       "  <thead>\n",
       "    <tr style=\"text-align: right;\">\n",
       "      <th></th>\n",
       "      <th>InvoiceNo</th>\n",
       "      <th>StockCode</th>\n",
       "      <th>Description</th>\n",
       "      <th>Quantity</th>\n",
       "      <th>InvoiceDate</th>\n",
       "      <th>UnitPrice</th>\n",
       "      <th>CustomerID</th>\n",
       "      <th>Country</th>\n",
       "      <th>Revenue</th>\n",
       "    </tr>\n",
       "  </thead>\n",
       "  <tbody>\n",
       "    <tr>\n",
       "      <th>194354</th>\n",
       "      <td>553573</td>\n",
       "      <td>22980</td>\n",
       "      <td>PANTRY SCRUBBING BRUSH</td>\n",
       "      <td>1</td>\n",
       "      <td>2011-05-18 09:52:00</td>\n",
       "      <td>1.65</td>\n",
       "      <td>16446.0</td>\n",
       "      <td>United Kingdom</td>\n",
       "      <td>1.65</td>\n",
       "    </tr>\n",
       "    <tr>\n",
       "      <th>194355</th>\n",
       "      <td>553573</td>\n",
       "      <td>22982</td>\n",
       "      <td>PANTRY PASTRY BRUSH</td>\n",
       "      <td>1</td>\n",
       "      <td>2011-05-18 09:52:00</td>\n",
       "      <td>1.25</td>\n",
       "      <td>16446.0</td>\n",
       "      <td>United Kingdom</td>\n",
       "      <td>1.25</td>\n",
       "    </tr>\n",
       "    <tr>\n",
       "      <th>540421</th>\n",
       "      <td>581483</td>\n",
       "      <td>23843</td>\n",
       "      <td>PAPER CRAFT , LITTLE BIRDIE</td>\n",
       "      <td>80995</td>\n",
       "      <td>2011-12-09 09:15:00</td>\n",
       "      <td>2.08</td>\n",
       "      <td>16446.0</td>\n",
       "      <td>United Kingdom</td>\n",
       "      <td>168469.60</td>\n",
       "    </tr>\n",
       "    <tr>\n",
       "      <th>540422</th>\n",
       "      <td>C581484</td>\n",
       "      <td>23843</td>\n",
       "      <td>PAPER CRAFT , LITTLE BIRDIE</td>\n",
       "      <td>-80995</td>\n",
       "      <td>2011-12-09 09:27:00</td>\n",
       "      <td>2.08</td>\n",
       "      <td>16446.0</td>\n",
       "      <td>United Kingdom</td>\n",
       "      <td>-168469.60</td>\n",
       "    </tr>\n",
       "  </tbody>\n",
       "</table>\n",
       "</div>"
      ],
      "text/plain": [
       "       InvoiceNo StockCode                  Description  Quantity  \\\n",
       "194354    553573     22980       PANTRY SCRUBBING BRUSH         1   \n",
       "194355    553573     22982          PANTRY PASTRY BRUSH         1   \n",
       "540421    581483     23843  PAPER CRAFT , LITTLE BIRDIE     80995   \n",
       "540422   C581484     23843  PAPER CRAFT , LITTLE BIRDIE    -80995   \n",
       "\n",
       "               InvoiceDate  UnitPrice  CustomerID         Country    Revenue  \n",
       "194354 2011-05-18 09:52:00       1.65     16446.0  United Kingdom       1.65  \n",
       "194355 2011-05-18 09:52:00       1.25     16446.0  United Kingdom       1.25  \n",
       "540421 2011-12-09 09:15:00       2.08     16446.0  United Kingdom  168469.60  \n",
       "540422 2011-12-09 09:27:00       2.08     16446.0  United Kingdom -168469.60  "
      ]
     },
     "execution_count": 308,
     "metadata": {},
     "output_type": "execute_result"
    }
   ],
   "source": [
    "(df[df['CustomerID']== 16446])\n"
   ]
  },
  {
   "cell_type": "markdown",
   "metadata": {},
   "source": [
    "以上3名客戶，CustomerID:15098帶來649.5的利潤，CustomerID:16446則帶來2.9的利潤，另一位CustomerID:12346則為0 因此後續進一步的分析應該會將此客戶刪除"
   ]
  },
  {
   "cell_type": "markdown",
   "metadata": {},
   "source": [
    "接著解析UnitPrice的極值，圖B中y軸接近40000最高的點可以忽略因為那是\tInvoiceNo:C556445的取消訂單\n",
    "\n",
    "因此這裡會逐步挑出y軸20000以下以及低於0的訂單資訊，進一步觀察是哪些Description(商品)以及哪些CustomerID"
   ]
  },
  {
   "cell_type": "code",
   "execution_count": 309,
   "metadata": {},
   "outputs": [
    {
     "name": "stdout",
     "output_type": "stream",
     "text": [
      "       InvoiceNo StockCode      Description  Quantity         InvoiceDate  \\\n",
      "299983   A563186         B  Adjust bad debt         1 2011-08-12 14:51:00   \n",
      "299984   A563187         B  Adjust bad debt         1 2011-08-12 14:52:00   \n",
      "\n",
      "        UnitPrice  CustomerID         Country   Revenue  \n",
      "299983  -11062.06         NaN  United Kingdom -11062.06  \n",
      "299984  -11062.06         NaN  United Kingdom -11062.06  \n"
     ]
    }
   ],
   "source": [
    "UnitPrice_low = df[df['UnitPrice']<0]\n",
    "print(UnitPrice_low)"
   ]
  },
  {
   "cell_type": "code",
   "execution_count": 310,
   "metadata": {},
   "outputs": [
    {
     "data": {
      "text/plain": [
       "-22124.12"
      ]
     },
     "execution_count": 310,
     "metadata": {},
     "output_type": "execute_result"
    }
   ],
   "source": [
    "# UnitPrice的極小值(<0)的總額\n",
    "UnitPrice_low['Revenue'].sum()"
   ]
  },
  {
   "cell_type": "code",
   "execution_count": 359,
   "metadata": {},
   "outputs": [
    {
     "data": {
      "text/plain": [
       "299983    A563186\n",
       "299984    A563187\n",
       "Name: InvoiceNo, dtype: object"
      ]
     },
     "execution_count": 359,
     "metadata": {},
     "output_type": "execute_result"
    }
   ],
   "source": [
    "UnitPrice_low['InvoiceNo']"
   ]
  },
  {
   "cell_type": "markdown",
   "metadata": {},
   "source": [
    "圖B中y軸低於0的那一點，根據它的完整資料是一筆在 InvoiceDate:2011-08-12登記，額度為-11062.06來自英國的兩筆壞帳(Description=Adjust bad debt)，它沒有CustomerID(NaN)，後續進一步的分析(ex.客戶、銷貨利潤等等)應該會刪除此筆\n",
    "\n",
    "另外前面計算出的'所有退貨訂單的退款總額與負收益差額'的數字也是-22,124.12，所以所有的負收益是98%的退貨訂單的退款額+2%的壞帳總額"
   ]
  },
  {
   "cell_type": "code",
   "execution_count": 311,
   "metadata": {},
   "outputs": [
    {
     "name": "stdout",
     "output_type": "stream",
     "text": [
      "UnitPrice低於51的總數量 540636\n",
      "UnitPrice低於101的總數量 540873\n",
      "UnitPrice大於100的總數量 1036\n",
      "UnitPrice大於1000的總數量 120\n",
      "UnitPrice大於10000的總數量 10\n",
      "UnitPrice大於20000的總數量 1\n"
     ]
    }
   ],
   "source": [
    "print('UnitPrice低於51的總數量',(df[df['UnitPrice']<=50]['UnitPrice']).count())\n",
    "print('UnitPrice低於101的總數量',(df[df['UnitPrice']<=100]['UnitPrice']).count())\n",
    "print('UnitPrice大於100的總數量',(df[df['UnitPrice']>100]['UnitPrice']).count())\n",
    "print('UnitPrice大於1000的總數量',(df[df['UnitPrice']>1000]['UnitPrice']).count())\n",
    "print('UnitPrice大於10000的總數量',(df[df['UnitPrice']>10000]['UnitPrice']).count())\n",
    "print('UnitPrice大於20000的總數量',(df[df['UnitPrice']>20000]['UnitPrice']).count())"
   ]
  },
  {
   "cell_type": "code",
   "execution_count": 312,
   "metadata": {},
   "outputs": [
    {
     "name": "stdout",
     "output_type": "stream",
     "text": [
      "0.9980882399074383\n",
      "0.00022143939296081076\n"
     ]
    }
   ],
   "source": [
    "print((df[df['UnitPrice']<=100]['UnitPrice']).count()/df['UnitPrice'].count())\n",
    "print((df[df['UnitPrice']>1000]['UnitPrice']).count()/df['UnitPrice'].count())"
   ]
  },
  {
   "cell_type": "markdown",
   "metadata": {},
   "source": [
    "UnitPrice在100以內的比例超過99%\n",
    "\n",
    "UnitPrice超過1000的比例佔微乎其微"
   ]
  },
  {
   "cell_type": "code",
   "execution_count": 313,
   "metadata": {},
   "outputs": [
    {
     "data": {
      "text/plain": [
       "False    406829\n",
       "True     135080\n",
       "Name: CustomerID, dtype: int64"
      ]
     },
     "execution_count": 313,
     "metadata": {},
     "output_type": "execute_result"
    }
   ],
   "source": [
    "df['CustomerID'].isna().value_counts()"
   ]
  },
  {
   "cell_type": "code",
   "execution_count": 314,
   "metadata": {},
   "outputs": [
    {
     "name": "stdout",
     "output_type": "stream",
     "text": [
      "       InvoiceNo StockCode                      Description  Quantity  \\\n",
      "622       536414     22139                              NaN        56   \n",
      "1443      536544     21773  DECORATIVE ROSE BATHROOM BOTTLE         1   \n",
      "1444      536544     21774  DECORATIVE CATS BATHROOM BOTTLE         2   \n",
      "1445      536544     21786               POLKADOT RAIN HAT          4   \n",
      "1446      536544     21787            RAIN PONCHO RETROSPOT         2   \n",
      "...          ...       ...                              ...       ...   \n",
      "541536    581498    85099B          JUMBO BAG RED RETROSPOT         5   \n",
      "541537    581498    85099C   JUMBO  BAG BAROQUE BLACK WHITE         4   \n",
      "541538    581498     85150    LADIES & GENTLEMEN METAL SIGN         1   \n",
      "541539    581498     85174                S/4 CACTI CANDLES         1   \n",
      "541540    581498       DOT                   DOTCOM POSTAGE         1   \n",
      "\n",
      "               InvoiceDate  UnitPrice  CustomerID         Country  Revenue  \n",
      "622    2010-12-01 11:52:00       0.00         NaN  United Kingdom     0.00  \n",
      "1443   2010-12-01 14:32:00       2.51         NaN  United Kingdom     2.51  \n",
      "1444   2010-12-01 14:32:00       2.51         NaN  United Kingdom     5.02  \n",
      "1445   2010-12-01 14:32:00       0.85         NaN  United Kingdom     3.40  \n",
      "1446   2010-12-01 14:32:00       1.66         NaN  United Kingdom     3.32  \n",
      "...                    ...        ...         ...             ...      ...  \n",
      "541536 2011-12-09 10:26:00       4.13         NaN  United Kingdom    20.65  \n",
      "541537 2011-12-09 10:26:00       4.13         NaN  United Kingdom    16.52  \n",
      "541538 2011-12-09 10:26:00       4.96         NaN  United Kingdom     4.96  \n",
      "541539 2011-12-09 10:26:00      10.79         NaN  United Kingdom    10.79  \n",
      "541540 2011-12-09 10:26:00    1714.17         NaN  United Kingdom  1714.17  \n",
      "\n",
      "[135080 rows x 9 columns]\n"
     ]
    }
   ],
   "source": [
    "# 抓出CustomerID是空值的資料\n",
    "Null_CustomerID = df[df['CustomerID'].isna()]\n",
    "print(Null_CustomerID)"
   ]
  },
  {
   "cell_type": "markdown",
   "metadata": {},
   "source": [
    "抓出CustomerID為空值的135,080筆資料，這些客戶無法被識別，因此也不能斷定他們是沒加入會員的客戶或者第一次來購物的新客戶"
   ]
  },
  {
   "cell_type": "code",
   "execution_count": 315,
   "metadata": {},
   "outputs": [
    {
     "name": "stdout",
     "output_type": "stream",
     "text": [
      "573585     1114\n",
      "581219      749\n",
      "581492      731\n",
      "580729      721\n",
      "558475      705\n",
      "           ... \n",
      "554023        1\n",
      "554022        1\n",
      "554021        1\n",
      "554020        1\n",
      "C558901       1\n",
      "Name: InvoiceNo, Length: 25900, dtype: int64\n",
      "25900\n"
     ]
    }
   ],
   "source": [
    "# 檢查InvoiceNo的不重複的值\n",
    "print(df['InvoiceNo'].value_counts())\n",
    "print((df['InvoiceNo'].value_counts()).count())"
   ]
  },
  {
   "cell_type": "markdown",
   "metadata": {},
   "source": [
    "InvoiceNo 不重複的總數量是25900筆(包含退貨)"
   ]
  },
  {
   "cell_type": "code",
   "execution_count": 316,
   "metadata": {},
   "outputs": [
    {
     "name": "stdout",
     "output_type": "stream",
     "text": [
      "False    540795\n",
      "True       1114\n",
      "Name: InvoiceNo, dtype: int64\n",
      "541909\n"
     ]
    }
   ],
   "source": [
    "print((df['InvoiceNo']=='573585').value_counts())\n",
    "print(df['InvoiceNo'].count())"
   ]
  },
  {
   "cell_type": "markdown",
   "metadata": {},
   "source": [
    "InvoiceNo是基於訂單下訂商品與成立時間給定，因此同一訂單編號訂單都會是相同下單時間但下訂商品不同\n",
    "\n",
    "不過InvoiceNo是有重複的情況，檢視有沒有可能InvoiceNo一樣但是CustomerID欄位卻是空值的情況"
   ]
  },
  {
   "cell_type": "code",
   "execution_count": 317,
   "metadata": {},
   "outputs": [
    {
     "data": {
      "text/plain": [
       "True    705\n",
       "Name: CustomerID, dtype: int64"
      ]
     },
     "execution_count": 317,
     "metadata": {},
     "output_type": "execute_result"
    }
   ],
   "source": [
    "(df[df['InvoiceNo']=='558475']['CustomerID'].isna()).value_counts()"
   ]
  },
  {
   "cell_type": "code",
   "execution_count": 318,
   "metadata": {},
   "outputs": [
    {
     "data": {
      "text/plain": [
       "705"
      ]
     },
     "execution_count": 318,
     "metadata": {},
     "output_type": "execute_result"
    }
   ],
   "source": [
    "(df[df['InvoiceNo']=='558475']['CustomerID'].isna()).sum()"
   ]
  },
  {
   "cell_type": "code",
   "execution_count": 319,
   "metadata": {},
   "outputs": [
    {
     "data": {
      "text/html": [
       "<div>\n",
       "<style scoped>\n",
       "    .dataframe tbody tr th:only-of-type {\n",
       "        vertical-align: middle;\n",
       "    }\n",
       "\n",
       "    .dataframe tbody tr th {\n",
       "        vertical-align: top;\n",
       "    }\n",
       "\n",
       "    .dataframe thead th {\n",
       "        text-align: right;\n",
       "    }\n",
       "</style>\n",
       "<table border=\"1\" class=\"dataframe\">\n",
       "  <thead>\n",
       "    <tr style=\"text-align: right;\">\n",
       "      <th></th>\n",
       "      <th>InvoiceNo</th>\n",
       "      <th>StockCode</th>\n",
       "      <th>Description</th>\n",
       "      <th>Quantity</th>\n",
       "      <th>InvoiceDate</th>\n",
       "      <th>UnitPrice</th>\n",
       "      <th>CustomerID</th>\n",
       "      <th>Country</th>\n",
       "      <th>Revenue</th>\n",
       "    </tr>\n",
       "  </thead>\n",
       "  <tbody>\n",
       "    <tr>\n",
       "      <th>5756</th>\n",
       "      <td>536876</td>\n",
       "      <td>21993</td>\n",
       "      <td>FLORAL FOLK STATIONERY SET</td>\n",
       "      <td>3</td>\n",
       "      <td>2010-12-03 11:36:00</td>\n",
       "      <td>2.51</td>\n",
       "      <td>NaN</td>\n",
       "      <td>United Kingdom</td>\n",
       "      <td>7.53</td>\n",
       "    </tr>\n",
       "    <tr>\n",
       "      <th>5757</th>\n",
       "      <td>536876</td>\n",
       "      <td>22028</td>\n",
       "      <td>PENNY FARTHING BIRTHDAY CARD</td>\n",
       "      <td>1</td>\n",
       "      <td>2010-12-03 11:36:00</td>\n",
       "      <td>0.85</td>\n",
       "      <td>NaN</td>\n",
       "      <td>United Kingdom</td>\n",
       "      <td>0.85</td>\n",
       "    </tr>\n",
       "    <tr>\n",
       "      <th>5758</th>\n",
       "      <td>536876</td>\n",
       "      <td>22041</td>\n",
       "      <td>RECORD FRAME 7\" SINGLE SIZE</td>\n",
       "      <td>1</td>\n",
       "      <td>2010-12-03 11:36:00</td>\n",
       "      <td>5.06</td>\n",
       "      <td>NaN</td>\n",
       "      <td>United Kingdom</td>\n",
       "      <td>5.06</td>\n",
       "    </tr>\n",
       "    <tr>\n",
       "      <th>5759</th>\n",
       "      <td>536876</td>\n",
       "      <td>22042</td>\n",
       "      <td>CHRISTMAS CARD SINGING ANGEL</td>\n",
       "      <td>1</td>\n",
       "      <td>2010-12-03 11:36:00</td>\n",
       "      <td>0.43</td>\n",
       "      <td>NaN</td>\n",
       "      <td>United Kingdom</td>\n",
       "      <td>0.43</td>\n",
       "    </tr>\n",
       "    <tr>\n",
       "      <th>5760</th>\n",
       "      <td>536876</td>\n",
       "      <td>22059</td>\n",
       "      <td>CERAMIC STRAWBERRY DESIGN MUG</td>\n",
       "      <td>1</td>\n",
       "      <td>2010-12-03 11:36:00</td>\n",
       "      <td>3.36</td>\n",
       "      <td>NaN</td>\n",
       "      <td>United Kingdom</td>\n",
       "      <td>3.36</td>\n",
       "    </tr>\n",
       "    <tr>\n",
       "      <th>...</th>\n",
       "      <td>...</td>\n",
       "      <td>...</td>\n",
       "      <td>...</td>\n",
       "      <td>...</td>\n",
       "      <td>...</td>\n",
       "      <td>...</td>\n",
       "      <td>...</td>\n",
       "      <td>...</td>\n",
       "      <td>...</td>\n",
       "    </tr>\n",
       "    <tr>\n",
       "      <th>6344</th>\n",
       "      <td>536876</td>\n",
       "      <td>21985</td>\n",
       "      <td>PACK OF 12 HEARTS DESIGN TISSUES</td>\n",
       "      <td>1</td>\n",
       "      <td>2010-12-03 11:36:00</td>\n",
       "      <td>0.85</td>\n",
       "      <td>NaN</td>\n",
       "      <td>United Kingdom</td>\n",
       "      <td>0.85</td>\n",
       "    </tr>\n",
       "    <tr>\n",
       "      <th>6345</th>\n",
       "      <td>536876</td>\n",
       "      <td>21986</td>\n",
       "      <td>PACK OF 12 PINK POLKADOT TISSUES</td>\n",
       "      <td>4</td>\n",
       "      <td>2010-12-03 11:36:00</td>\n",
       "      <td>0.85</td>\n",
       "      <td>NaN</td>\n",
       "      <td>United Kingdom</td>\n",
       "      <td>3.40</td>\n",
       "    </tr>\n",
       "    <tr>\n",
       "      <th>6346</th>\n",
       "      <td>536876</td>\n",
       "      <td>21990</td>\n",
       "      <td>MODERN FLORAL STATIONERY SET</td>\n",
       "      <td>3</td>\n",
       "      <td>2010-12-03 11:36:00</td>\n",
       "      <td>2.51</td>\n",
       "      <td>NaN</td>\n",
       "      <td>United Kingdom</td>\n",
       "      <td>7.53</td>\n",
       "    </tr>\n",
       "    <tr>\n",
       "      <th>6347</th>\n",
       "      <td>536876</td>\n",
       "      <td>21991</td>\n",
       "      <td>BOHEMIAN COLLAGE STATIONERY SET</td>\n",
       "      <td>3</td>\n",
       "      <td>2010-12-03 11:36:00</td>\n",
       "      <td>2.51</td>\n",
       "      <td>NaN</td>\n",
       "      <td>United Kingdom</td>\n",
       "      <td>7.53</td>\n",
       "    </tr>\n",
       "    <tr>\n",
       "      <th>6348</th>\n",
       "      <td>536876</td>\n",
       "      <td>21992</td>\n",
       "      <td>VINTAGE PAISLEY STATIONERY SET</td>\n",
       "      <td>18</td>\n",
       "      <td>2010-12-03 11:36:00</td>\n",
       "      <td>2.51</td>\n",
       "      <td>NaN</td>\n",
       "      <td>United Kingdom</td>\n",
       "      <td>45.18</td>\n",
       "    </tr>\n",
       "  </tbody>\n",
       "</table>\n",
       "<p>593 rows × 9 columns</p>\n",
       "</div>"
      ],
      "text/plain": [
       "     InvoiceNo StockCode                        Description  Quantity  \\\n",
       "5756    536876     21993         FLORAL FOLK STATIONERY SET         3   \n",
       "5757    536876     22028       PENNY FARTHING BIRTHDAY CARD         1   \n",
       "5758    536876     22041       RECORD FRAME 7\" SINGLE SIZE          1   \n",
       "5759    536876     22042       CHRISTMAS CARD SINGING ANGEL         1   \n",
       "5760    536876     22059      CERAMIC STRAWBERRY DESIGN MUG         1   \n",
       "...        ...       ...                                ...       ...   \n",
       "6344    536876     21985  PACK OF 12 HEARTS DESIGN TISSUES          1   \n",
       "6345    536876     21986   PACK OF 12 PINK POLKADOT TISSUES         4   \n",
       "6346    536876     21990       MODERN FLORAL STATIONERY SET         3   \n",
       "6347    536876     21991    BOHEMIAN COLLAGE STATIONERY SET         3   \n",
       "6348    536876     21992     VINTAGE PAISLEY STATIONERY SET        18   \n",
       "\n",
       "             InvoiceDate  UnitPrice  CustomerID         Country  Revenue  \n",
       "5756 2010-12-03 11:36:00       2.51         NaN  United Kingdom     7.53  \n",
       "5757 2010-12-03 11:36:00       0.85         NaN  United Kingdom     0.85  \n",
       "5758 2010-12-03 11:36:00       5.06         NaN  United Kingdom     5.06  \n",
       "5759 2010-12-03 11:36:00       0.43         NaN  United Kingdom     0.43  \n",
       "5760 2010-12-03 11:36:00       3.36         NaN  United Kingdom     3.36  \n",
       "...                  ...        ...         ...             ...      ...  \n",
       "6344 2010-12-03 11:36:00       0.85         NaN  United Kingdom     0.85  \n",
       "6345 2010-12-03 11:36:00       0.85         NaN  United Kingdom     3.40  \n",
       "6346 2010-12-03 11:36:00       2.51         NaN  United Kingdom     7.53  \n",
       "6347 2010-12-03 11:36:00       2.51         NaN  United Kingdom     7.53  \n",
       "6348 2010-12-03 11:36:00       2.51         NaN  United Kingdom    45.18  \n",
       "\n",
       "[593 rows x 9 columns]"
      ]
     },
     "execution_count": 319,
     "metadata": {},
     "output_type": "execute_result"
    }
   ],
   "source": [
    "df[df['InvoiceNo']=='536876']"
   ]
  },
  {
   "cell_type": "code",
   "execution_count": 320,
   "metadata": {},
   "outputs": [
    {
     "name": "stdout",
     "output_type": "stream",
     "text": [
      "622       536414\n",
      "1443      536544\n",
      "1444      536544\n",
      "1445      536544\n",
      "1446      536544\n",
      "           ...  \n",
      "541536    581498\n",
      "541537    581498\n",
      "541538    581498\n",
      "541539    581498\n",
      "541540    581498\n",
      "Name: InvoiceNo, Length: 135080, dtype: object 622      NaN\n",
      "1443     NaN\n",
      "1444     NaN\n",
      "1445     NaN\n",
      "1446     NaN\n",
      "          ..\n",
      "541536   NaN\n",
      "541537   NaN\n",
      "541538   NaN\n",
      "541539   NaN\n",
      "541540   NaN\n",
      "Name: CustomerID, Length: 135080, dtype: float64\n"
     ]
    }
   ],
   "source": [
    "Customer_null = df['CustomerID'].isna()\n",
    "print(df[Customer_null]['InvoiceNo'],df[Customer_null]['CustomerID'])"
   ]
  },
  {
   "cell_type": "code",
   "execution_count": 321,
   "metadata": {},
   "outputs": [],
   "source": [
    "# df[Customer_null].fillna(0,inplace=True)"
   ]
  },
  {
   "cell_type": "code",
   "execution_count": 322,
   "metadata": {},
   "outputs": [
    {
     "data": {
      "text/plain": [
       "622      NaN\n",
       "1443     NaN\n",
       "1444     NaN\n",
       "1445     NaN\n",
       "1446     NaN\n",
       "          ..\n",
       "541536   NaN\n",
       "541537   NaN\n",
       "541538   NaN\n",
       "541539   NaN\n",
       "541540   NaN\n",
       "Name: CustomerID, Length: 135080, dtype: float64"
      ]
     },
     "execution_count": 322,
     "metadata": {},
     "output_type": "execute_result"
    }
   ],
   "source": [
    "df[Customer_null]['CustomerID']"
   ]
  },
  {
   "cell_type": "code",
   "execution_count": 323,
   "metadata": {},
   "outputs": [
    {
     "data": {
      "text/plain": [
       "622       536414\n",
       "1443      536544\n",
       "1444      536544\n",
       "1445      536544\n",
       "1446      536544\n",
       "           ...  \n",
       "541536    581498\n",
       "541537    581498\n",
       "541538    581498\n",
       "541539    581498\n",
       "541540    581498\n",
       "Name: InvoiceNo, Length: 135080, dtype: object"
      ]
     },
     "execution_count": 323,
     "metadata": {},
     "output_type": "execute_result"
    }
   ],
   "source": [
    "df[Customer_null]['InvoiceNo']"
   ]
  },
  {
   "cell_type": "code",
   "execution_count": 324,
   "metadata": {},
   "outputs": [],
   "source": [
    "df2 = pd.merge(df[Customer_null]['InvoiceNo'],df[Customer_null]['CustomerID'],left_index=True,right_index=True)"
   ]
  },
  {
   "cell_type": "code",
   "execution_count": 325,
   "metadata": {},
   "outputs": [
    {
     "data": {
      "text/html": [
       "<div>\n",
       "<style scoped>\n",
       "    .dataframe tbody tr th:only-of-type {\n",
       "        vertical-align: middle;\n",
       "    }\n",
       "\n",
       "    .dataframe tbody tr th {\n",
       "        vertical-align: top;\n",
       "    }\n",
       "\n",
       "    .dataframe thead th {\n",
       "        text-align: right;\n",
       "    }\n",
       "</style>\n",
       "<table border=\"1\" class=\"dataframe\">\n",
       "  <thead>\n",
       "    <tr style=\"text-align: right;\">\n",
       "      <th></th>\n",
       "      <th>InvoiceNo</th>\n",
       "      <th>CustomerID</th>\n",
       "    </tr>\n",
       "  </thead>\n",
       "  <tbody>\n",
       "    <tr>\n",
       "      <th>622</th>\n",
       "      <td>536414</td>\n",
       "      <td>NaN</td>\n",
       "    </tr>\n",
       "    <tr>\n",
       "      <th>1443</th>\n",
       "      <td>536544</td>\n",
       "      <td>NaN</td>\n",
       "    </tr>\n",
       "    <tr>\n",
       "      <th>1444</th>\n",
       "      <td>536544</td>\n",
       "      <td>NaN</td>\n",
       "    </tr>\n",
       "    <tr>\n",
       "      <th>1445</th>\n",
       "      <td>536544</td>\n",
       "      <td>NaN</td>\n",
       "    </tr>\n",
       "    <tr>\n",
       "      <th>1446</th>\n",
       "      <td>536544</td>\n",
       "      <td>NaN</td>\n",
       "    </tr>\n",
       "    <tr>\n",
       "      <th>...</th>\n",
       "      <td>...</td>\n",
       "      <td>...</td>\n",
       "    </tr>\n",
       "    <tr>\n",
       "      <th>541536</th>\n",
       "      <td>581498</td>\n",
       "      <td>NaN</td>\n",
       "    </tr>\n",
       "    <tr>\n",
       "      <th>541537</th>\n",
       "      <td>581498</td>\n",
       "      <td>NaN</td>\n",
       "    </tr>\n",
       "    <tr>\n",
       "      <th>541538</th>\n",
       "      <td>581498</td>\n",
       "      <td>NaN</td>\n",
       "    </tr>\n",
       "    <tr>\n",
       "      <th>541539</th>\n",
       "      <td>581498</td>\n",
       "      <td>NaN</td>\n",
       "    </tr>\n",
       "    <tr>\n",
       "      <th>541540</th>\n",
       "      <td>581498</td>\n",
       "      <td>NaN</td>\n",
       "    </tr>\n",
       "  </tbody>\n",
       "</table>\n",
       "<p>135080 rows × 2 columns</p>\n",
       "</div>"
      ],
      "text/plain": [
       "       InvoiceNo  CustomerID\n",
       "622       536414         NaN\n",
       "1443      536544         NaN\n",
       "1444      536544         NaN\n",
       "1445      536544         NaN\n",
       "1446      536544         NaN\n",
       "...          ...         ...\n",
       "541536    581498         NaN\n",
       "541537    581498         NaN\n",
       "541538    581498         NaN\n",
       "541539    581498         NaN\n",
       "541540    581498         NaN\n",
       "\n",
       "[135080 rows x 2 columns]"
      ]
     },
     "execution_count": 325,
     "metadata": {},
     "output_type": "execute_result"
    }
   ],
   "source": [
    "df2"
   ]
  },
  {
   "cell_type": "code",
   "execution_count": 326,
   "metadata": {},
   "outputs": [],
   "source": [
    "df3 = pd.merge(df['InvoiceNo'],df['CustomerID'],right_index=True,left_index=True)"
   ]
  },
  {
   "cell_type": "code",
   "execution_count": 327,
   "metadata": {},
   "outputs": [],
   "source": [
    "df3 = df3.dropna()"
   ]
  },
  {
   "cell_type": "code",
   "execution_count": 328,
   "metadata": {},
   "outputs": [
    {
     "data": {
      "text/html": [
       "<div>\n",
       "<style scoped>\n",
       "    .dataframe tbody tr th:only-of-type {\n",
       "        vertical-align: middle;\n",
       "    }\n",
       "\n",
       "    .dataframe tbody tr th {\n",
       "        vertical-align: top;\n",
       "    }\n",
       "\n",
       "    .dataframe thead th {\n",
       "        text-align: right;\n",
       "    }\n",
       "</style>\n",
       "<table border=\"1\" class=\"dataframe\">\n",
       "  <thead>\n",
       "    <tr style=\"text-align: right;\">\n",
       "      <th></th>\n",
       "      <th>InvoiceNo</th>\n",
       "      <th>CustomerID</th>\n",
       "    </tr>\n",
       "  </thead>\n",
       "  <tbody>\n",
       "    <tr>\n",
       "      <th>0</th>\n",
       "      <td>536365</td>\n",
       "      <td>17850.0</td>\n",
       "    </tr>\n",
       "    <tr>\n",
       "      <th>1</th>\n",
       "      <td>536365</td>\n",
       "      <td>17850.0</td>\n",
       "    </tr>\n",
       "    <tr>\n",
       "      <th>2</th>\n",
       "      <td>536365</td>\n",
       "      <td>17850.0</td>\n",
       "    </tr>\n",
       "    <tr>\n",
       "      <th>3</th>\n",
       "      <td>536365</td>\n",
       "      <td>17850.0</td>\n",
       "    </tr>\n",
       "    <tr>\n",
       "      <th>4</th>\n",
       "      <td>536365</td>\n",
       "      <td>17850.0</td>\n",
       "    </tr>\n",
       "    <tr>\n",
       "      <th>...</th>\n",
       "      <td>...</td>\n",
       "      <td>...</td>\n",
       "    </tr>\n",
       "    <tr>\n",
       "      <th>541904</th>\n",
       "      <td>581587</td>\n",
       "      <td>12680.0</td>\n",
       "    </tr>\n",
       "    <tr>\n",
       "      <th>541905</th>\n",
       "      <td>581587</td>\n",
       "      <td>12680.0</td>\n",
       "    </tr>\n",
       "    <tr>\n",
       "      <th>541906</th>\n",
       "      <td>581587</td>\n",
       "      <td>12680.0</td>\n",
       "    </tr>\n",
       "    <tr>\n",
       "      <th>541907</th>\n",
       "      <td>581587</td>\n",
       "      <td>12680.0</td>\n",
       "    </tr>\n",
       "    <tr>\n",
       "      <th>541908</th>\n",
       "      <td>581587</td>\n",
       "      <td>12680.0</td>\n",
       "    </tr>\n",
       "  </tbody>\n",
       "</table>\n",
       "<p>406829 rows × 2 columns</p>\n",
       "</div>"
      ],
      "text/plain": [
       "       InvoiceNo  CustomerID\n",
       "0         536365     17850.0\n",
       "1         536365     17850.0\n",
       "2         536365     17850.0\n",
       "3         536365     17850.0\n",
       "4         536365     17850.0\n",
       "...          ...         ...\n",
       "541904    581587     12680.0\n",
       "541905    581587     12680.0\n",
       "541906    581587     12680.0\n",
       "541907    581587     12680.0\n",
       "541908    581587     12680.0\n",
       "\n",
       "[406829 rows x 2 columns]"
      ]
     },
     "execution_count": 328,
     "metadata": {},
     "output_type": "execute_result"
    }
   ],
   "source": [
    "df3"
   ]
  },
  {
   "cell_type": "code",
   "execution_count": 329,
   "metadata": {},
   "outputs": [
    {
     "data": {
      "text/plain": [
       "0"
      ]
     },
     "execution_count": 329,
     "metadata": {},
     "output_type": "execute_result"
    }
   ],
   "source": [
    "df3['CustomerID'].isna().sum()"
   ]
  },
  {
   "cell_type": "code",
   "execution_count": 330,
   "metadata": {},
   "outputs": [],
   "source": [
    "df4 = pd.merge(df2['InvoiceNo'],df3['InvoiceNo'],how='inner')"
   ]
  },
  {
   "cell_type": "code",
   "execution_count": 331,
   "metadata": {},
   "outputs": [
    {
     "data": {
      "text/html": [
       "<div>\n",
       "<style scoped>\n",
       "    .dataframe tbody tr th:only-of-type {\n",
       "        vertical-align: middle;\n",
       "    }\n",
       "\n",
       "    .dataframe tbody tr th {\n",
       "        vertical-align: top;\n",
       "    }\n",
       "\n",
       "    .dataframe thead th {\n",
       "        text-align: right;\n",
       "    }\n",
       "</style>\n",
       "<table border=\"1\" class=\"dataframe\">\n",
       "  <thead>\n",
       "    <tr style=\"text-align: right;\">\n",
       "      <th></th>\n",
       "      <th>InvoiceNo</th>\n",
       "    </tr>\n",
       "  </thead>\n",
       "  <tbody>\n",
       "  </tbody>\n",
       "</table>\n",
       "</div>"
      ],
      "text/plain": [
       "Empty DataFrame\n",
       "Columns: [InvoiceNo]\n",
       "Index: []"
      ]
     },
     "execution_count": 331,
     "metadata": {},
     "output_type": "execute_result"
    }
   ],
   "source": [
    "df4"
   ]
  },
  {
   "cell_type": "markdown",
   "metadata": {},
   "source": [
    "透過篩選資料後合併比對確認沒有InvoiceNo一樣但CustomerID卻是空值的資料出現\n",
    "\n",
    "因此後續可以另外將CustomerID有無缺失的資料分開解析(做客戶方面的分析階段)"
   ]
  },
  {
   "cell_type": "code",
   "execution_count": 332,
   "metadata": {},
   "outputs": [
    {
     "data": {
      "text/plain": [
       "4372"
      ]
     },
     "execution_count": 332,
     "metadata": {},
     "output_type": "execute_result"
    }
   ],
   "source": [
    "(df['CustomerID'].value_counts()).count()"
   ]
  },
  {
   "cell_type": "markdown",
   "metadata": {},
   "source": [
    "不重複的CustomerID數量是4373名\n",
    "\n",
    "也就是有4373名客戶是確定的"
   ]
  },
  {
   "cell_type": "code",
   "execution_count": 333,
   "metadata": {},
   "outputs": [],
   "source": [
    "# for all_InvoiceNo,all_InvoiceDate,all_CustomerID in zip(df['InvoiceNo'],df['InvoiceDate'],df['CustomerID']):"
   ]
  },
  {
   "cell_type": "markdown",
   "metadata": {},
   "source": [
    "除了原始資料另外拆分出三筆資料檔案\n",
    "- CustomerID無缺失值的資料檔案\n",
    "- CustomerID有缺失值的資料檔案\n",
    "- InvoiceNo開頭為C的退貨資料檔案"
   ]
  },
  {
   "cell_type": "code",
   "execution_count": 334,
   "metadata": {},
   "outputs": [
    {
     "name": "stdout",
     "output_type": "stream",
     "text": [
      "InvoiceNo      False\n",
      "StockCode      False\n",
      "Description     True\n",
      "Quantity       False\n",
      "InvoiceDate    False\n",
      "UnitPrice      False\n",
      "CustomerID      True\n",
      "Country        False\n",
      "Revenue        False\n",
      "dtype: bool\n",
      "135080\n",
      "1454\n"
     ]
    }
   ],
   "source": [
    "df_CustomerID_NoNull = df\n",
    "print(df_CustomerID_NoNull.isna().any())\n",
    "print(df_CustomerID_NoNull['CustomerID'].isna().sum())\n",
    "print(df_CustomerID_NoNull['Description'].isna().sum())"
   ]
  },
  {
   "cell_type": "code",
   "execution_count": 335,
   "metadata": {},
   "outputs": [],
   "source": [
    "df_CustomerID_NoNull.dropna(axis=0,subset=['CustomerID'],inplace=True) # 單純把CustomerID的缺失值排除掉"
   ]
  },
  {
   "cell_type": "code",
   "execution_count": 336,
   "metadata": {},
   "outputs": [
    {
     "name": "stdout",
     "output_type": "stream",
     "text": [
      "       InvoiceNo StockCode                          Description  Quantity  \\\n",
      "0         536365    85123A   WHITE HANGING HEART T-LIGHT HOLDER         6   \n",
      "1         536365     71053                  WHITE METAL LANTERN         6   \n",
      "2         536365    84406B       CREAM CUPID HEARTS COAT HANGER         8   \n",
      "3         536365    84029G  KNITTED UNION FLAG HOT WATER BOTTLE         6   \n",
      "4         536365    84029E       RED WOOLLY HOTTIE WHITE HEART.         6   \n",
      "...          ...       ...                                  ...       ...   \n",
      "541904    581587     22613          PACK OF 20 SPACEBOY NAPKINS        12   \n",
      "541905    581587     22899         CHILDREN'S APRON DOLLY GIRL          6   \n",
      "541906    581587     23254        CHILDRENS CUTLERY DOLLY GIRL          4   \n",
      "541907    581587     23255      CHILDRENS CUTLERY CIRCUS PARADE         4   \n",
      "541908    581587     22138        BAKING SET 9 PIECE RETROSPOT          3   \n",
      "\n",
      "               InvoiceDate  UnitPrice  CustomerID         Country  Revenue  \n",
      "0      2010-12-01 08:26:00       2.55     17850.0  United Kingdom    15.30  \n",
      "1      2010-12-01 08:26:00       3.39     17850.0  United Kingdom    20.34  \n",
      "2      2010-12-01 08:26:00       2.75     17850.0  United Kingdom    22.00  \n",
      "3      2010-12-01 08:26:00       3.39     17850.0  United Kingdom    20.34  \n",
      "4      2010-12-01 08:26:00       3.39     17850.0  United Kingdom    20.34  \n",
      "...                    ...        ...         ...             ...      ...  \n",
      "541904 2011-12-09 12:50:00       0.85     12680.0          France    10.20  \n",
      "541905 2011-12-09 12:50:00       2.10     12680.0          France    12.60  \n",
      "541906 2011-12-09 12:50:00       4.15     12680.0          France    16.60  \n",
      "541907 2011-12-09 12:50:00       4.15     12680.0          France    16.60  \n",
      "541908 2011-12-09 12:50:00       4.95     12680.0          France    14.85  \n",
      "\n",
      "[406829 rows x 9 columns]\n"
     ]
    }
   ],
   "source": [
    "print(df_CustomerID_NoNull)"
   ]
  },
  {
   "cell_type": "code",
   "execution_count": 337,
   "metadata": {},
   "outputs": [],
   "source": [
    "df_CustomerID_NoNull = df_CustomerID_NoNull.to_csv('Online_Retail_CustomerID_NoNull.csv')"
   ]
  },
  {
   "cell_type": "code",
   "execution_count": 338,
   "metadata": {},
   "outputs": [
    {
     "data": {
      "text/plain": [
       "0         False\n",
       "1         False\n",
       "2         False\n",
       "3         False\n",
       "4         False\n",
       "          ...  \n",
       "541904    False\n",
       "541905    False\n",
       "541906    False\n",
       "541907    False\n",
       "541908    False\n",
       "Name: CustomerID, Length: 406829, dtype: bool"
      ]
     },
     "execution_count": 338,
     "metadata": {},
     "output_type": "execute_result"
    }
   ],
   "source": [
    "df_CustomerID_Null = df['CustomerID'].isna()\n",
    "df_CustomerID_Null"
   ]
  },
  {
   "cell_type": "code",
   "execution_count": 341,
   "metadata": {},
   "outputs": [
    {
     "data": {
      "text/html": [
       "<div>\n",
       "<style scoped>\n",
       "    .dataframe tbody tr th:only-of-type {\n",
       "        vertical-align: middle;\n",
       "    }\n",
       "\n",
       "    .dataframe tbody tr th {\n",
       "        vertical-align: top;\n",
       "    }\n",
       "\n",
       "    .dataframe thead th {\n",
       "        text-align: right;\n",
       "    }\n",
       "</style>\n",
       "<table border=\"1\" class=\"dataframe\">\n",
       "  <thead>\n",
       "    <tr style=\"text-align: right;\">\n",
       "      <th></th>\n",
       "      <th>InvoiceNo</th>\n",
       "      <th>StockCode</th>\n",
       "      <th>Description</th>\n",
       "      <th>Quantity</th>\n",
       "      <th>InvoiceDate</th>\n",
       "      <th>UnitPrice</th>\n",
       "      <th>CustomerID</th>\n",
       "      <th>Country</th>\n",
       "    </tr>\n",
       "  </thead>\n",
       "  <tbody>\n",
       "    <tr>\n",
       "      <th>0</th>\n",
       "      <td>536365</td>\n",
       "      <td>85123A</td>\n",
       "      <td>WHITE HANGING HEART T-LIGHT HOLDER</td>\n",
       "      <td>6</td>\n",
       "      <td>2010/12/1 8:26</td>\n",
       "      <td>2.55</td>\n",
       "      <td>17850.0</td>\n",
       "      <td>United Kingdom</td>\n",
       "    </tr>\n",
       "    <tr>\n",
       "      <th>1</th>\n",
       "      <td>536365</td>\n",
       "      <td>71053</td>\n",
       "      <td>WHITE METAL LANTERN</td>\n",
       "      <td>6</td>\n",
       "      <td>2010/12/1 8:26</td>\n",
       "      <td>3.39</td>\n",
       "      <td>17850.0</td>\n",
       "      <td>United Kingdom</td>\n",
       "    </tr>\n",
       "    <tr>\n",
       "      <th>2</th>\n",
       "      <td>536365</td>\n",
       "      <td>84406B</td>\n",
       "      <td>CREAM CUPID HEARTS COAT HANGER</td>\n",
       "      <td>8</td>\n",
       "      <td>2010/12/1 8:26</td>\n",
       "      <td>2.75</td>\n",
       "      <td>17850.0</td>\n",
       "      <td>United Kingdom</td>\n",
       "    </tr>\n",
       "    <tr>\n",
       "      <th>3</th>\n",
       "      <td>536365</td>\n",
       "      <td>84029G</td>\n",
       "      <td>KNITTED UNION FLAG HOT WATER BOTTLE</td>\n",
       "      <td>6</td>\n",
       "      <td>2010/12/1 8:26</td>\n",
       "      <td>3.39</td>\n",
       "      <td>17850.0</td>\n",
       "      <td>United Kingdom</td>\n",
       "    </tr>\n",
       "    <tr>\n",
       "      <th>4</th>\n",
       "      <td>536365</td>\n",
       "      <td>84029E</td>\n",
       "      <td>RED WOOLLY HOTTIE WHITE HEART.</td>\n",
       "      <td>6</td>\n",
       "      <td>2010/12/1 8:26</td>\n",
       "      <td>3.39</td>\n",
       "      <td>17850.0</td>\n",
       "      <td>United Kingdom</td>\n",
       "    </tr>\n",
       "    <tr>\n",
       "      <th>...</th>\n",
       "      <td>...</td>\n",
       "      <td>...</td>\n",
       "      <td>...</td>\n",
       "      <td>...</td>\n",
       "      <td>...</td>\n",
       "      <td>...</td>\n",
       "      <td>...</td>\n",
       "      <td>...</td>\n",
       "    </tr>\n",
       "    <tr>\n",
       "      <th>541904</th>\n",
       "      <td>581587</td>\n",
       "      <td>22613</td>\n",
       "      <td>PACK OF 20 SPACEBOY NAPKINS</td>\n",
       "      <td>12</td>\n",
       "      <td>2011/12/9 12:50</td>\n",
       "      <td>0.85</td>\n",
       "      <td>12680.0</td>\n",
       "      <td>France</td>\n",
       "    </tr>\n",
       "    <tr>\n",
       "      <th>541905</th>\n",
       "      <td>581587</td>\n",
       "      <td>22899</td>\n",
       "      <td>CHILDREN'S APRON DOLLY GIRL</td>\n",
       "      <td>6</td>\n",
       "      <td>2011/12/9 12:50</td>\n",
       "      <td>2.10</td>\n",
       "      <td>12680.0</td>\n",
       "      <td>France</td>\n",
       "    </tr>\n",
       "    <tr>\n",
       "      <th>541906</th>\n",
       "      <td>581587</td>\n",
       "      <td>23254</td>\n",
       "      <td>CHILDRENS CUTLERY DOLLY GIRL</td>\n",
       "      <td>4</td>\n",
       "      <td>2011/12/9 12:50</td>\n",
       "      <td>4.15</td>\n",
       "      <td>12680.0</td>\n",
       "      <td>France</td>\n",
       "    </tr>\n",
       "    <tr>\n",
       "      <th>541907</th>\n",
       "      <td>581587</td>\n",
       "      <td>23255</td>\n",
       "      <td>CHILDRENS CUTLERY CIRCUS PARADE</td>\n",
       "      <td>4</td>\n",
       "      <td>2011/12/9 12:50</td>\n",
       "      <td>4.15</td>\n",
       "      <td>12680.0</td>\n",
       "      <td>France</td>\n",
       "    </tr>\n",
       "    <tr>\n",
       "      <th>541908</th>\n",
       "      <td>581587</td>\n",
       "      <td>22138</td>\n",
       "      <td>BAKING SET 9 PIECE RETROSPOT</td>\n",
       "      <td>3</td>\n",
       "      <td>2011/12/9 12:50</td>\n",
       "      <td>4.95</td>\n",
       "      <td>12680.0</td>\n",
       "      <td>France</td>\n",
       "    </tr>\n",
       "  </tbody>\n",
       "</table>\n",
       "<p>541909 rows × 8 columns</p>\n",
       "</div>"
      ],
      "text/plain": [
       "       InvoiceNo StockCode                          Description  Quantity  \\\n",
       "0         536365    85123A   WHITE HANGING HEART T-LIGHT HOLDER         6   \n",
       "1         536365     71053                  WHITE METAL LANTERN         6   \n",
       "2         536365    84406B       CREAM CUPID HEARTS COAT HANGER         8   \n",
       "3         536365    84029G  KNITTED UNION FLAG HOT WATER BOTTLE         6   \n",
       "4         536365    84029E       RED WOOLLY HOTTIE WHITE HEART.         6   \n",
       "...          ...       ...                                  ...       ...   \n",
       "541904    581587     22613          PACK OF 20 SPACEBOY NAPKINS        12   \n",
       "541905    581587     22899         CHILDREN'S APRON DOLLY GIRL          6   \n",
       "541906    581587     23254        CHILDRENS CUTLERY DOLLY GIRL          4   \n",
       "541907    581587     23255      CHILDRENS CUTLERY CIRCUS PARADE         4   \n",
       "541908    581587     22138        BAKING SET 9 PIECE RETROSPOT          3   \n",
       "\n",
       "            InvoiceDate  UnitPrice  CustomerID         Country  \n",
       "0        2010/12/1 8:26       2.55     17850.0  United Kingdom  \n",
       "1        2010/12/1 8:26       3.39     17850.0  United Kingdom  \n",
       "2        2010/12/1 8:26       2.75     17850.0  United Kingdom  \n",
       "3        2010/12/1 8:26       3.39     17850.0  United Kingdom  \n",
       "4        2010/12/1 8:26       3.39     17850.0  United Kingdom  \n",
       "...                 ...        ...         ...             ...  \n",
       "541904  2011/12/9 12:50       0.85     12680.0          France  \n",
       "541905  2011/12/9 12:50       2.10     12680.0          France  \n",
       "541906  2011/12/9 12:50       4.15     12680.0          France  \n",
       "541907  2011/12/9 12:50       4.15     12680.0          France  \n",
       "541908  2011/12/9 12:50       4.95     12680.0          France  \n",
       "\n",
       "[541909 rows x 8 columns]"
      ]
     },
     "execution_count": 341,
     "metadata": {},
     "output_type": "execute_result"
    }
   ],
   "source": [
    "df = pd.read_csv('Online Retail2.csv')\n",
    "df"
   ]
  },
  {
   "cell_type": "code",
   "execution_count": 346,
   "metadata": {},
   "outputs": [
    {
     "data": {
      "text/html": [
       "<div>\n",
       "<style scoped>\n",
       "    .dataframe tbody tr th:only-of-type {\n",
       "        vertical-align: middle;\n",
       "    }\n",
       "\n",
       "    .dataframe tbody tr th {\n",
       "        vertical-align: top;\n",
       "    }\n",
       "\n",
       "    .dataframe thead th {\n",
       "        text-align: right;\n",
       "    }\n",
       "</style>\n",
       "<table border=\"1\" class=\"dataframe\">\n",
       "  <thead>\n",
       "    <tr style=\"text-align: right;\">\n",
       "      <th></th>\n",
       "      <th>InvoiceNo</th>\n",
       "      <th>StockCode</th>\n",
       "      <th>Description</th>\n",
       "      <th>Quantity</th>\n",
       "      <th>InvoiceDate</th>\n",
       "      <th>UnitPrice</th>\n",
       "      <th>CustomerID</th>\n",
       "      <th>Country</th>\n",
       "    </tr>\n",
       "  </thead>\n",
       "  <tbody>\n",
       "    <tr>\n",
       "      <th>622</th>\n",
       "      <td>536414</td>\n",
       "      <td>22139</td>\n",
       "      <td>NaN</td>\n",
       "      <td>56</td>\n",
       "      <td>2010/12/1 11:52</td>\n",
       "      <td>0.00</td>\n",
       "      <td>NaN</td>\n",
       "      <td>United Kingdom</td>\n",
       "    </tr>\n",
       "    <tr>\n",
       "      <th>1443</th>\n",
       "      <td>536544</td>\n",
       "      <td>21773</td>\n",
       "      <td>DECORATIVE ROSE BATHROOM BOTTLE</td>\n",
       "      <td>1</td>\n",
       "      <td>2010/12/1 14:32</td>\n",
       "      <td>2.51</td>\n",
       "      <td>NaN</td>\n",
       "      <td>United Kingdom</td>\n",
       "    </tr>\n",
       "    <tr>\n",
       "      <th>1444</th>\n",
       "      <td>536544</td>\n",
       "      <td>21774</td>\n",
       "      <td>DECORATIVE CATS BATHROOM BOTTLE</td>\n",
       "      <td>2</td>\n",
       "      <td>2010/12/1 14:32</td>\n",
       "      <td>2.51</td>\n",
       "      <td>NaN</td>\n",
       "      <td>United Kingdom</td>\n",
       "    </tr>\n",
       "    <tr>\n",
       "      <th>1445</th>\n",
       "      <td>536544</td>\n",
       "      <td>21786</td>\n",
       "      <td>POLKADOT RAIN HAT</td>\n",
       "      <td>4</td>\n",
       "      <td>2010/12/1 14:32</td>\n",
       "      <td>0.85</td>\n",
       "      <td>NaN</td>\n",
       "      <td>United Kingdom</td>\n",
       "    </tr>\n",
       "    <tr>\n",
       "      <th>1446</th>\n",
       "      <td>536544</td>\n",
       "      <td>21787</td>\n",
       "      <td>RAIN PONCHO RETROSPOT</td>\n",
       "      <td>2</td>\n",
       "      <td>2010/12/1 14:32</td>\n",
       "      <td>1.66</td>\n",
       "      <td>NaN</td>\n",
       "      <td>United Kingdom</td>\n",
       "    </tr>\n",
       "    <tr>\n",
       "      <th>...</th>\n",
       "      <td>...</td>\n",
       "      <td>...</td>\n",
       "      <td>...</td>\n",
       "      <td>...</td>\n",
       "      <td>...</td>\n",
       "      <td>...</td>\n",
       "      <td>...</td>\n",
       "      <td>...</td>\n",
       "    </tr>\n",
       "    <tr>\n",
       "      <th>541536</th>\n",
       "      <td>581498</td>\n",
       "      <td>85099B</td>\n",
       "      <td>JUMBO BAG RED RETROSPOT</td>\n",
       "      <td>5</td>\n",
       "      <td>2011/12/9 10:26</td>\n",
       "      <td>4.13</td>\n",
       "      <td>NaN</td>\n",
       "      <td>United Kingdom</td>\n",
       "    </tr>\n",
       "    <tr>\n",
       "      <th>541537</th>\n",
       "      <td>581498</td>\n",
       "      <td>85099C</td>\n",
       "      <td>JUMBO  BAG BAROQUE BLACK WHITE</td>\n",
       "      <td>4</td>\n",
       "      <td>2011/12/9 10:26</td>\n",
       "      <td>4.13</td>\n",
       "      <td>NaN</td>\n",
       "      <td>United Kingdom</td>\n",
       "    </tr>\n",
       "    <tr>\n",
       "      <th>541538</th>\n",
       "      <td>581498</td>\n",
       "      <td>85150</td>\n",
       "      <td>LADIES &amp; GENTLEMEN METAL SIGN</td>\n",
       "      <td>1</td>\n",
       "      <td>2011/12/9 10:26</td>\n",
       "      <td>4.96</td>\n",
       "      <td>NaN</td>\n",
       "      <td>United Kingdom</td>\n",
       "    </tr>\n",
       "    <tr>\n",
       "      <th>541539</th>\n",
       "      <td>581498</td>\n",
       "      <td>85174</td>\n",
       "      <td>S/4 CACTI CANDLES</td>\n",
       "      <td>1</td>\n",
       "      <td>2011/12/9 10:26</td>\n",
       "      <td>10.79</td>\n",
       "      <td>NaN</td>\n",
       "      <td>United Kingdom</td>\n",
       "    </tr>\n",
       "    <tr>\n",
       "      <th>541540</th>\n",
       "      <td>581498</td>\n",
       "      <td>DOT</td>\n",
       "      <td>DOTCOM POSTAGE</td>\n",
       "      <td>1</td>\n",
       "      <td>2011/12/9 10:26</td>\n",
       "      <td>1714.17</td>\n",
       "      <td>NaN</td>\n",
       "      <td>United Kingdom</td>\n",
       "    </tr>\n",
       "  </tbody>\n",
       "</table>\n",
       "<p>135080 rows × 8 columns</p>\n",
       "</div>"
      ],
      "text/plain": [
       "       InvoiceNo StockCode                      Description  Quantity  \\\n",
       "622       536414     22139                              NaN        56   \n",
       "1443      536544     21773  DECORATIVE ROSE BATHROOM BOTTLE         1   \n",
       "1444      536544     21774  DECORATIVE CATS BATHROOM BOTTLE         2   \n",
       "1445      536544     21786               POLKADOT RAIN HAT          4   \n",
       "1446      536544     21787            RAIN PONCHO RETROSPOT         2   \n",
       "...          ...       ...                              ...       ...   \n",
       "541536    581498    85099B          JUMBO BAG RED RETROSPOT         5   \n",
       "541537    581498    85099C   JUMBO  BAG BAROQUE BLACK WHITE         4   \n",
       "541538    581498     85150    LADIES & GENTLEMEN METAL SIGN         1   \n",
       "541539    581498     85174                S/4 CACTI CANDLES         1   \n",
       "541540    581498       DOT                   DOTCOM POSTAGE         1   \n",
       "\n",
       "            InvoiceDate  UnitPrice  CustomerID         Country  \n",
       "622     2010/12/1 11:52       0.00         NaN  United Kingdom  \n",
       "1443    2010/12/1 14:32       2.51         NaN  United Kingdom  \n",
       "1444    2010/12/1 14:32       2.51         NaN  United Kingdom  \n",
       "1445    2010/12/1 14:32       0.85         NaN  United Kingdom  \n",
       "1446    2010/12/1 14:32       1.66         NaN  United Kingdom  \n",
       "...                 ...        ...         ...             ...  \n",
       "541536  2011/12/9 10:26       4.13         NaN  United Kingdom  \n",
       "541537  2011/12/9 10:26       4.13         NaN  United Kingdom  \n",
       "541538  2011/12/9 10:26       4.96         NaN  United Kingdom  \n",
       "541539  2011/12/9 10:26      10.79         NaN  United Kingdom  \n",
       "541540  2011/12/9 10:26    1714.17         NaN  United Kingdom  \n",
       "\n",
       "[135080 rows x 8 columns]"
      ]
     },
     "execution_count": 346,
     "metadata": {},
     "output_type": "execute_result"
    }
   ],
   "source": [
    "df_CustomerID_Null = df[df['CustomerID'].isna()]\n",
    "df_CustomerID_Null"
   ]
  },
  {
   "cell_type": "code",
   "execution_count": 356,
   "metadata": {},
   "outputs": [
    {
     "ename": "AttributeError",
     "evalue": "'NoneType' object has no attribute 'to_csv'",
     "output_type": "error",
     "traceback": [
      "\u001b[1;31m---------------------------------------------------------------------------\u001b[0m",
      "\u001b[1;31mAttributeError\u001b[0m                            Traceback (most recent call last)",
      "\u001b[1;32mc:\\Users\\NiuNi\\OneDrive\\桌面\\demo\\myproject\\Retail_DA\\DEMOO.ipynb Cell 89\u001b[0m in \u001b[0;36m<cell line: 1>\u001b[1;34m()\u001b[0m\n\u001b[1;32m----> <a href='vscode-notebook-cell:/c%3A/Users/NiuNi/OneDrive/%E6%A1%8C%E9%9D%A2/demo/myproject/Retail_DA/DEMOO.ipynb#Y165sZmlsZQ%3D%3D?line=0'>1</a>\u001b[0m df_CustomerID_Null \u001b[39m=\u001b[39m df_CustomerID_Null\u001b[39m.\u001b[39;49mto_csv(\u001b[39m'\u001b[39m\u001b[39mOnline_Retail_CustomerID_Null.csv\u001b[39m\u001b[39m'\u001b[39m)\n",
      "\u001b[1;31mAttributeError\u001b[0m: 'NoneType' object has no attribute 'to_csv'"
     ]
    }
   ],
   "source": [
    "df_CustomerID_Null = df_CustomerID_Null.to_csv('Online_Retail_CustomerID_Null.csv')"
   ]
  },
  {
   "cell_type": "code",
   "execution_count": 357,
   "metadata": {},
   "outputs": [
    {
     "data": {
      "text/html": [
       "<div>\n",
       "<style scoped>\n",
       "    .dataframe tbody tr th:only-of-type {\n",
       "        vertical-align: middle;\n",
       "    }\n",
       "\n",
       "    .dataframe tbody tr th {\n",
       "        vertical-align: top;\n",
       "    }\n",
       "\n",
       "    .dataframe thead th {\n",
       "        text-align: right;\n",
       "    }\n",
       "</style>\n",
       "<table border=\"1\" class=\"dataframe\">\n",
       "  <thead>\n",
       "    <tr style=\"text-align: right;\">\n",
       "      <th></th>\n",
       "      <th>InvoiceNo</th>\n",
       "      <th>StockCode</th>\n",
       "      <th>Description</th>\n",
       "      <th>Quantity</th>\n",
       "      <th>InvoiceDate</th>\n",
       "      <th>UnitPrice</th>\n",
       "      <th>CustomerID</th>\n",
       "      <th>Country</th>\n",
       "    </tr>\n",
       "  </thead>\n",
       "  <tbody>\n",
       "    <tr>\n",
       "      <th>141</th>\n",
       "      <td>C536379</td>\n",
       "      <td>D</td>\n",
       "      <td>Discount</td>\n",
       "      <td>-1</td>\n",
       "      <td>2010/12/1 9:41</td>\n",
       "      <td>27.50</td>\n",
       "      <td>14527.0</td>\n",
       "      <td>United Kingdom</td>\n",
       "    </tr>\n",
       "    <tr>\n",
       "      <th>154</th>\n",
       "      <td>C536383</td>\n",
       "      <td>35004C</td>\n",
       "      <td>SET OF 3 COLOURED  FLYING DUCKS</td>\n",
       "      <td>-1</td>\n",
       "      <td>2010/12/1 9:49</td>\n",
       "      <td>4.65</td>\n",
       "      <td>15311.0</td>\n",
       "      <td>United Kingdom</td>\n",
       "    </tr>\n",
       "    <tr>\n",
       "      <th>235</th>\n",
       "      <td>C536391</td>\n",
       "      <td>22556</td>\n",
       "      <td>PLASTERS IN TIN CIRCUS PARADE</td>\n",
       "      <td>-12</td>\n",
       "      <td>2010/12/1 10:24</td>\n",
       "      <td>1.65</td>\n",
       "      <td>17548.0</td>\n",
       "      <td>United Kingdom</td>\n",
       "    </tr>\n",
       "    <tr>\n",
       "      <th>236</th>\n",
       "      <td>C536391</td>\n",
       "      <td>21984</td>\n",
       "      <td>PACK OF 12 PINK PAISLEY TISSUES</td>\n",
       "      <td>-24</td>\n",
       "      <td>2010/12/1 10:24</td>\n",
       "      <td>0.29</td>\n",
       "      <td>17548.0</td>\n",
       "      <td>United Kingdom</td>\n",
       "    </tr>\n",
       "    <tr>\n",
       "      <th>237</th>\n",
       "      <td>C536391</td>\n",
       "      <td>21983</td>\n",
       "      <td>PACK OF 12 BLUE PAISLEY TISSUES</td>\n",
       "      <td>-24</td>\n",
       "      <td>2010/12/1 10:24</td>\n",
       "      <td>0.29</td>\n",
       "      <td>17548.0</td>\n",
       "      <td>United Kingdom</td>\n",
       "    </tr>\n",
       "    <tr>\n",
       "      <th>...</th>\n",
       "      <td>...</td>\n",
       "      <td>...</td>\n",
       "      <td>...</td>\n",
       "      <td>...</td>\n",
       "      <td>...</td>\n",
       "      <td>...</td>\n",
       "      <td>...</td>\n",
       "      <td>...</td>\n",
       "    </tr>\n",
       "    <tr>\n",
       "      <th>540449</th>\n",
       "      <td>C581490</td>\n",
       "      <td>23144</td>\n",
       "      <td>ZINC T-LIGHT HOLDER STARS SMALL</td>\n",
       "      <td>-11</td>\n",
       "      <td>2011/12/9 9:57</td>\n",
       "      <td>0.83</td>\n",
       "      <td>14397.0</td>\n",
       "      <td>United Kingdom</td>\n",
       "    </tr>\n",
       "    <tr>\n",
       "      <th>541541</th>\n",
       "      <td>C581499</td>\n",
       "      <td>M</td>\n",
       "      <td>Manual</td>\n",
       "      <td>-1</td>\n",
       "      <td>2011/12/9 10:28</td>\n",
       "      <td>224.69</td>\n",
       "      <td>15498.0</td>\n",
       "      <td>United Kingdom</td>\n",
       "    </tr>\n",
       "    <tr>\n",
       "      <th>541715</th>\n",
       "      <td>C581568</td>\n",
       "      <td>21258</td>\n",
       "      <td>VICTORIAN SEWING BOX LARGE</td>\n",
       "      <td>-5</td>\n",
       "      <td>2011/12/9 11:57</td>\n",
       "      <td>10.95</td>\n",
       "      <td>15311.0</td>\n",
       "      <td>United Kingdom</td>\n",
       "    </tr>\n",
       "    <tr>\n",
       "      <th>541716</th>\n",
       "      <td>C581569</td>\n",
       "      <td>84978</td>\n",
       "      <td>HANGING HEART JAR T-LIGHT HOLDER</td>\n",
       "      <td>-1</td>\n",
       "      <td>2011/12/9 11:58</td>\n",
       "      <td>1.25</td>\n",
       "      <td>17315.0</td>\n",
       "      <td>United Kingdom</td>\n",
       "    </tr>\n",
       "    <tr>\n",
       "      <th>541717</th>\n",
       "      <td>C581569</td>\n",
       "      <td>20979</td>\n",
       "      <td>36 PENCILS TUBE RED RETROSPOT</td>\n",
       "      <td>-5</td>\n",
       "      <td>2011/12/9 11:58</td>\n",
       "      <td>1.25</td>\n",
       "      <td>17315.0</td>\n",
       "      <td>United Kingdom</td>\n",
       "    </tr>\n",
       "  </tbody>\n",
       "</table>\n",
       "<p>9288 rows × 8 columns</p>\n",
       "</div>"
      ],
      "text/plain": [
       "       InvoiceNo StockCode                       Description  Quantity  \\\n",
       "141      C536379         D                          Discount        -1   \n",
       "154      C536383    35004C   SET OF 3 COLOURED  FLYING DUCKS        -1   \n",
       "235      C536391     22556    PLASTERS IN TIN CIRCUS PARADE        -12   \n",
       "236      C536391     21984  PACK OF 12 PINK PAISLEY TISSUES        -24   \n",
       "237      C536391     21983  PACK OF 12 BLUE PAISLEY TISSUES        -24   \n",
       "...          ...       ...                               ...       ...   \n",
       "540449   C581490     23144   ZINC T-LIGHT HOLDER STARS SMALL       -11   \n",
       "541541   C581499         M                            Manual        -1   \n",
       "541715   C581568     21258        VICTORIAN SEWING BOX LARGE        -5   \n",
       "541716   C581569     84978  HANGING HEART JAR T-LIGHT HOLDER        -1   \n",
       "541717   C581569     20979     36 PENCILS TUBE RED RETROSPOT        -5   \n",
       "\n",
       "            InvoiceDate  UnitPrice  CustomerID         Country  \n",
       "141      2010/12/1 9:41      27.50     14527.0  United Kingdom  \n",
       "154      2010/12/1 9:49       4.65     15311.0  United Kingdom  \n",
       "235     2010/12/1 10:24       1.65     17548.0  United Kingdom  \n",
       "236     2010/12/1 10:24       0.29     17548.0  United Kingdom  \n",
       "237     2010/12/1 10:24       0.29     17548.0  United Kingdom  \n",
       "...                 ...        ...         ...             ...  \n",
       "540449   2011/12/9 9:57       0.83     14397.0  United Kingdom  \n",
       "541541  2011/12/9 10:28     224.69     15498.0  United Kingdom  \n",
       "541715  2011/12/9 11:57      10.95     15311.0  United Kingdom  \n",
       "541716  2011/12/9 11:58       1.25     17315.0  United Kingdom  \n",
       "541717  2011/12/9 11:58       1.25     17315.0  United Kingdom  \n",
       "\n",
       "[9288 rows x 8 columns]"
      ]
     },
     "execution_count": 357,
     "metadata": {},
     "output_type": "execute_result"
    }
   ],
   "source": [
    "df_Return_InvoiceNo = df[df['InvoiceNo'].str.startswith('C')]\n",
    "df_Return_InvoiceNo"
   ]
  },
  {
   "cell_type": "code",
   "execution_count": 358,
   "metadata": {},
   "outputs": [],
   "source": [
    "df_Return_InvoiceNo = df_Return_InvoiceNo.to_csv('Online_Retail_Return_InvoiceNo.csv')"
   ]
  }
 ],
 "metadata": {
  "kernelspec": {
   "display_name": "Python 3.10.5 ('thu')",
   "language": "python",
   "name": "python3"
  },
  "language_info": {
   "codemirror_mode": {
    "name": "ipython",
    "version": 3
   },
   "file_extension": ".py",
   "mimetype": "text/x-python",
   "name": "python",
   "nbconvert_exporter": "python",
   "pygments_lexer": "ipython3",
   "version": "3.10.6"
  },
  "orig_nbformat": 4,
  "vscode": {
   "interpreter": {
    "hash": "f5e8fefebbf74db675ff02f151cdaed6c45d42bdb475ffae19fb2a8bcaa4d1de"
   }
  }
 },
 "nbformat": 4,
 "nbformat_minor": 2
}
